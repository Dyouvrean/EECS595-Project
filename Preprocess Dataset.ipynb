{
 "cells": [
  {
   "cell_type": "code",
   "execution_count": 1,
   "metadata": {},
   "outputs": [
    {
     "name": "stderr",
     "output_type": "stream",
     "text": [
      "c:\\Users\\stbyu\\anaconda3\\envs\\eecs595python10\\lib\\site-packages\\tqdm\\auto.py:21: TqdmWarning: IProgress not found. Please update jupyter and ipywidgets. See https://ipywidgets.readthedocs.io/en/stable/user_install.html\n",
      "  from .autonotebook import tqdm as notebook_tqdm\n"
     ]
    }
   ],
   "source": [
    "from datasets import load_dataset\n",
    "import pandas as pd"
   ]
  },
  {
   "cell_type": "markdown",
   "metadata": {},
   "source": [
    "# Preprocess Dataset"
   ]
  },
  {
   "cell_type": "markdown",
   "metadata": {},
   "source": [
    "## Finetune Datasets"
   ]
  },
  {
   "cell_type": "code",
   "execution_count": 2,
   "metadata": {},
   "outputs": [],
   "source": [
    "dataset = load_dataset(\"ai2_arc\", 'ARC-Challenge')"
   ]
  },
  {
   "cell_type": "code",
   "execution_count": 3,
   "metadata": {},
   "outputs": [
    {
     "name": "stdout",
     "output_type": "stream",
     "text": [
      "DatasetDict({\n",
      "    train: Dataset({\n",
      "        features: ['id', 'question', 'choices', 'answerKey'],\n",
      "        num_rows: 1119\n",
      "    })\n",
      "    test: Dataset({\n",
      "        features: ['id', 'question', 'choices', 'answerKey'],\n",
      "        num_rows: 1172\n",
      "    })\n",
      "    validation: Dataset({\n",
      "        features: ['id', 'question', 'choices', 'answerKey'],\n",
      "        num_rows: 299\n",
      "    })\n",
      "})\n"
     ]
    }
   ],
   "source": [
    "print(dataset)"
   ]
  },
  {
   "cell_type": "code",
   "execution_count": 4,
   "metadata": {},
   "outputs": [
    {
     "name": "stdout",
     "output_type": "stream",
     "text": [
      "Dataset({\n",
      "    features: ['id', 'question', 'choices', 'answerKey'],\n",
      "    num_rows: 1119\n",
      "})\n"
     ]
    }
   ],
   "source": [
    "train_ds = dataset[\"train\"]\n",
    "valid_ds = dataset[\"validation\"]\n",
    "test_ds = dataset[\"test\"]\n",
    "print(train_ds)"
   ]
  },
  {
   "cell_type": "code",
   "execution_count": 5,
   "metadata": {},
   "outputs": [],
   "source": [
    "def transform_arc_dataset(dataset, instruction_prompt):\n",
    "    \"\"\"\n",
    "    Transforms the ARC dataset into the specified Pandas DataFrame format.\n",
    "\n",
    "    Parameters:\n",
    "    dataset (list): A list of dictionaries, each representing a question in the ARC dataset.\n",
    "\n",
    "    Returns:\n",
    "    pd.DataFrame: A DataFrame with two columns as specified.\n",
    "    \"\"\"\n",
    "    transformed_data = []\n",
    "\n",
    "    for entry in dataset:\n",
    "        # Extracting question and choices\n",
    "        question = entry['question']\n",
    "        choices = entry['choices']['text']\n",
    "        labels = entry['choices']['label']\n",
    "        answer_key = entry['answerKey']\n",
    "\n",
    "        # Formatting Column 1: Question and Choices\n",
    "        formatted_question = instruction_prompt + question + \"\\n\" + \"\\n\".join([f\"{label}. {choice}\" for label, choice in zip(labels, choices)])\n",
    "\n",
    "        # Formatting Column 2: Answer Key and Corresponding Choice\n",
    "        answer_index = labels.index(answer_key)\n",
    "        formatted_answer = f\"{answer_key}. {choices[answer_index]}\"\n",
    "\n",
    "        # Appending the formatted data\n",
    "        transformed_data.append([formatted_question, formatted_answer])\n",
    "\n",
    "    # Creating a DataFrame\n",
    "    df = pd.DataFrame(transformed_data, columns=['Question and Choices', 'Answer'])\n",
    "\n",
    "    return df"
   ]
  },
  {
   "cell_type": "code",
   "execution_count": 6,
   "metadata": {},
   "outputs": [],
   "source": [
    "instruction = \"\"\"Based on the question, analyze each option and select the most appropriate answer. Please provide a final answer to the question.\\n\"\"\"\n",
    "train_df = transform_arc_dataset(train_ds, instruction)\n",
    "valid_df = transform_arc_dataset(valid_ds, instruction)\n",
    "test_df = transform_arc_dataset(test_ds, instruction)"
   ]
  },
  {
   "cell_type": "code",
   "execution_count": 8,
   "metadata": {},
   "outputs": [
    {
     "name": "stdout",
     "output_type": "stream",
     "text": [
      "Based on the question, analyze each option and select the most appropriate answer. Please provide a final answer to the question.\n",
      "George wants to warm his hands quickly by rubbing them. Which skin surface will produce the most heat?\n",
      "A. dry palms\n",
      "B. wet palms\n",
      "C. palms covered with oil\n",
      "D. palms covered with lotion\n"
     ]
    }
   ],
   "source": [
    "print(train_df.iloc[0,0])"
   ]
  },
  {
   "cell_type": "code",
   "execution_count": 9,
   "metadata": {},
   "outputs": [
    {
     "name": "stdout",
     "output_type": "stream",
     "text": [
      "                                Question and Choices  \\\n",
      "0  Based on the question, analyze each option and...   \n",
      "1  Based on the question, analyze each option and...   \n",
      "\n",
      "                                    Answer  \n",
      "0                             A. dry palms  \n",
      "1  B. The refrigerator door contains iron.  \n",
      "                                Question and Choices  \\\n",
      "0  Based on the question, analyze each option and...   \n",
      "1  Based on the question, analyze each option and...   \n",
      "\n",
      "                                        Answer  \n",
      "0  D. Record the details of the investigation.  \n",
      "1                                   C. drought  \n",
      "                                Question and Choices  \\\n",
      "0  Based on the question, analyze each option and...   \n",
      "1  Based on the question, analyze each option and...   \n",
      "\n",
      "                                   Answer  \n",
      "0  C. Planetary days will become shorter.  \n",
      "1         B. buildings will be made safer  \n"
     ]
    }
   ],
   "source": [
    "print(train_df.head(2))\n",
    "print(valid_df.head(2))\n",
    "print(test_df.head(2))"
   ]
  },
  {
   "cell_type": "code",
   "execution_count": 10,
   "metadata": {},
   "outputs": [],
   "source": [
    "train_df.to_csv('../data/train_df-arc_challenge.csv', index=False)\n",
    "valid_df.to_csv('../data/valid_df-arc_arc_challenge.csv', index=False)\n",
    "test_df.to_csv('../data/test_df-arc_arc_challenge.csv', index=False)"
   ]
  },
  {
   "cell_type": "markdown",
   "metadata": {},
   "source": [
    "## Pretrain Data"
   ]
  },
  {
   "cell_type": "code",
   "execution_count": 28,
   "metadata": {},
   "outputs": [],
   "source": [
    "courpus_path = r\"../data/ARC-V1-Feb2018-2/ARC_Corpus.txt\""
   ]
  },
  {
   "cell_type": "code",
   "execution_count": 29,
   "metadata": {},
   "outputs": [],
   "source": [
    "def process_large_file(file_path):\n",
    "    with open(file_path, \"r\", encoding=\"utf-8\") as file:\n",
    "        corpus = [line.strip(\"\\n\") for line in file.readlines()]\n",
    "    pd.DataFrame(corpus).to_csv(r\"../data/ARC_corpus.csv\", header=False, index = False)\n",
    "\n",
    "\n",
    "process_large_file(courpus_path)"
   ]
  },
  {
   "cell_type": "code",
   "execution_count": 2,
   "metadata": {},
   "outputs": [],
   "source": [
    "corpus_csv_path = r\"../data/ARC_corpus.csv\"\n",
    "corpus_df = pd.read_csv(corpus_csv_path, header = None)"
   ]
  },
  {
   "cell_type": "code",
   "execution_count": 3,
   "metadata": {},
   "outputs": [
    {
     "name": "stdout",
     "output_type": "stream",
     "text": [
      "                                                                                                                                                                                                                                                                                                                                                               0\n",
      "0                                                                                                                                                                                                                                                          Large international companies are involved in bauxite, iron ore, diamond, and gold mining operations.\n",
      "1                                                                                                                                                                                                                                                                                                                               Paleoceanography, 8(2): 193-208.\n",
      "2                                                                                                                                                       Of course, for many in the media, “hydrogen sulphide delivery helps prevent disease damage in cells in certain disease models” will always be trumped by “farts cure cancer” when it comes to headlines.\n",
      "3                                                                                                                                                                                                                                                                                                        The same problems apply with wolf-domestic dog hybrids.\n",
      "4                                                                                                                                                                                                                                                                                                                                taking stock of delightful days\n",
      "5                                                                                                                                                                                                                        The an- tlu-opologist and the ethnologist find in trop- ical America some of the most complicated and interesting problems of research.\n",
      "6   ORDER ODONATA (Damselflies and Dragonflies) Diagnosis: large, to over three inches long; four wings, transparent and membranous, held vertically (damselflies) or laterally (dragonflies) at rest; chew- ing mouth parts, tooth-like; nymphs aquatic, feeding on mosquito larvae to small fish; adults terrestrial, feeding on other insects (Figure 14.27).\n",
      "7                                                                                                                                                                                                                                                   until they institute such safeguards and assurances of chaste maidenhood as characterize Hebrew social life?\n",
      "8                                                                                                                                                                                                                                                                       Sex brought the variations that could allow organisms to survive change” (2000, p. 163).\n",
      "9                                                                                                                                                 Homo erectus had a long tenure; the earliest Homo erectus fossils are dated to roughly 1.8 million years ago, while the youngest fossils assigned to this species date to roughly 300 thousand years ago (ka).\n",
      "10                                                                                                                                                                                                                                                                                                                    * -LSB- http://www.t13.org T13.org -RSB- .\n",
      "11                                                                                                                                                                                                                    free stresses the complete absence of external rule and the full right to make all of one's own decisions <you're free to do as you like>.\n",
      "12                                                                                                                                                                                                                                    We have brought together a group of experts from across Canada, the U.S., and Mexico to develop a practical reform agenda.\n",
      "13                                                                                                                                                                                                                                                                                                                                             Automatic[ edit ]\n",
      "14                                                                                                                                                                                                                                                                                      Maternal and infant health profile — United States/Mexico border region.\n",
      "15                                                                                                                                                                                                                                                        The kit is already stored in the cockpit and on the aft deck ready to be moved as quickly as possible.\n",
      "16                                                                                                                                                                                                                                                                                                                         Main article: Economy of Nazi Germany\n",
      "17                                                                                                                                                                                                                                                                                              They developed tentacles and an opening like a mouth at one end.\n",
      "18                                                                                                                                                                                                                  English: Finless porpoise German ... be linked with reproductive cycles and ... occupy an important place in the daily life of people in ...\n",
      "19                                                                                                                                                                                                                                                                                                              Tested with DevC++ (so a gcc version around 3.5)\n"
     ]
    }
   ],
   "source": [
    "pd.set_option('display.max_colwidth', None)\n",
    "print(corpus_df.head(20))"
   ]
  },
  {
   "cell_type": "code",
   "execution_count": 13,
   "metadata": {},
   "outputs": [
    {
     "name": "stdout",
     "output_type": "stream",
     "text": [
      "28957 Then the super cool part- children will use magnets to explore how gravity can easily be overcome by other forces- almost like defying gravity!\n"
     ]
    }
   ],
   "source": [
    "# Assuming your DataFrame is named df and the column is named 'column_name'\n",
    "# text_to_check = \"The force of gravity overcomes the\"\n",
    "text_to_check = \"will use magnets to explore how gravity\"\n",
    "# exists = text_to_check in corpus_df.values.squeeze(1)\n",
    "corpus_data = corpus_df.values.squeeze(1)\n",
    "results = [entry for idx, entry in enumerate(corpus_data) if text_to_check in entry]\n",
    "for idx, entry in enumerate(corpus_df.values.squeeze(1)):\n",
    "    if text_to_check in entry:\n",
    "        print(idx, entry)"
   ]
  },
  {
   "cell_type": "code",
   "execution_count": 12,
   "metadata": {},
   "outputs": [
    {
     "name": "stdout",
     "output_type": "stream",
     "text": [
      "Thus, when we see such strata inclined instead of horizontal, evidence of an episode of deformation.\n"
     ]
    }
   ],
   "source": [
    "print(corpus_data[1000])"
   ]
  },
  {
   "cell_type": "code",
   "execution_count": 17,
   "metadata": {},
   "outputs": [
    {
     "name": "stdout",
     "output_type": "stream",
     "text": [
      "['Large international companies are involved in bauxite, iron ore, diamond, and gold mining operations.\\n'\n",
      " 'Paleoceanography, 8(2): 193-208.\\n'\n",
      " 'Of course, for many in the media, “hydrogen sulphide delivery helps prevent disease damage in cells in certain disease models” will always be trumped by “farts cure cancer” when it comes to headlines.\\n'\n",
      " 'The same problems apply with wolf-domestic dog hybrids.\\n'\n",
      " 'taking stock of delightful days\\n'\n",
      " 'The an- tlu-opologist and the ethnologist find in trop- ical America some of the most complicated and interesting problems of research.\\n'\n",
      " 'ORDER ODONATA (Damselflies and Dragonflies) Diagnosis: large, to over three inches long; four wings, transparent and membranous, held vertically (damselflies) or laterally (dragonflies) at rest; chew- ing mouth parts, tooth-like; nymphs aquatic, feeding on mosquito larvae to small fish; adults terrestrial, feeding on other insects (Figure 14.27).\\n'\n",
      " 'until they institute such safeguards and assurances of chaste maidenhood as characterize Hebrew social life?\\n'\n",
      " 'Sex brought the variations that could allow organisms to survive change” (2000, p. 163).\\n'\n",
      " 'Homo erectus had a long tenure; the earliest Homo erectus fossils are dated to roughly 1.8 million years ago, while the youngest fossils assigned to this species date to roughly 300 thousand years ago (ka).\\n']\n"
     ]
    }
   ],
   "source": [
    "print(corpus_df.values.squeeze(1)[:10])"
   ]
  }
 ],
 "metadata": {
  "kernelspec": {
   "display_name": "eecs595python10",
   "language": "python",
   "name": "python3"
  },
  "language_info": {
   "codemirror_mode": {
    "name": "ipython",
    "version": 3
   },
   "file_extension": ".py",
   "mimetype": "text/x-python",
   "name": "python",
   "nbconvert_exporter": "python",
   "pygments_lexer": "ipython3",
   "version": "3.10.13"
  }
 },
 "nbformat": 4,
 "nbformat_minor": 2
}
