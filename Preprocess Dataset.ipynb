{
 "cells": [
  {
   "cell_type": "code",
   "execution_count": 7,
   "metadata": {},
   "outputs": [],
   "source": [
    "from datasets import load_dataset\n",
    "import pandas as pd"
   ]
  },
  {
   "cell_type": "markdown",
   "metadata": {},
   "source": [
    "# Preprocess Dataset"
   ]
  },
  {
   "cell_type": "markdown",
   "metadata": {},
   "source": [
    "## Finetune Datasets - ARC challenge"
   ]
  },
  {
   "cell_type": "code",
   "execution_count": 26,
   "metadata": {},
   "outputs": [],
   "source": [
    "dataset = load_dataset(\"ai2_arc\", 'ARC-Easy')"
   ]
  },
  {
   "cell_type": "code",
   "execution_count": 27,
   "metadata": {},
   "outputs": [
    {
     "name": "stdout",
     "output_type": "stream",
     "text": [
      "DatasetDict({\n",
      "    train: Dataset({\n",
      "        features: ['id', 'question', 'choices', 'answerKey'],\n",
      "        num_rows: 2251\n",
      "    })\n",
      "    test: Dataset({\n",
      "        features: ['id', 'question', 'choices', 'answerKey'],\n",
      "        num_rows: 2376\n",
      "    })\n",
      "    validation: Dataset({\n",
      "        features: ['id', 'question', 'choices', 'answerKey'],\n",
      "        num_rows: 570\n",
      "    })\n",
      "})\n"
     ]
    }
   ],
   "source": [
    "print(dataset)"
   ]
  },
  {
   "cell_type": "code",
   "execution_count": 28,
   "metadata": {},
   "outputs": [
    {
     "name": "stdout",
     "output_type": "stream",
     "text": [
      "Dataset({\n",
      "    features: ['id', 'question', 'choices', 'answerKey'],\n",
      "    num_rows: 2251\n",
      "})\n"
     ]
    }
   ],
   "source": [
    "train_ds = dataset[\"train\"]\n",
    "valid_ds = dataset[\"validation\"]\n",
    "test_ds = dataset[\"test\"]\n",
    "print(train_ds)"
   ]
  },
  {
   "cell_type": "code",
   "execution_count": 29,
   "metadata": {},
   "outputs": [],
   "source": [
    "def transform_arc_dataset(dataset, instruction_prompt):\n",
    "    \"\"\"\n",
    "    Transforms the ARC dataset into the specified Pandas DataFrame format.\n",
    "\n",
    "    Parameters:\n",
    "    dataset (list): A list of dictionaries, each representing a question in the ARC dataset.\n",
    "\n",
    "    Returns:\n",
    "    pd.DataFrame: A DataFrame with two columns as specified.\n",
    "    \"\"\"\n",
    "    transformed_data = []\n",
    "\n",
    "    for entry in dataset:\n",
    "        # Extracting question and choices\n",
    "        question = entry['question']\n",
    "        choices = entry['choices']['text']\n",
    "        labels = entry['choices']['label']\n",
    "        answer_key = entry['answerKey']\n",
    "\n",
    "        # Formatting Column 1: Question and Choices\n",
    "        formatted_question = instruction_prompt + question + \"\\n\" + \"\\n\".join([f\"{label}. {choice}\" for label, choice in zip(labels, choices)])\n",
    "\n",
    "        # Formatting Column 2: Answer Key and Corresponding Choice\n",
    "        answer_index = labels.index(answer_key)\n",
    "        formatted_answer = f\"{answer_key}. {choices[answer_index]}\"\n",
    "\n",
    "        # Appending the formatted data\n",
    "        transformed_data.append([formatted_question, formatted_answer])\n",
    "\n",
    "    # Creating a DataFrame\n",
    "    df = pd.DataFrame(transformed_data, columns=['Question and Choices', 'Answer'])\n",
    "\n",
    "    return df"
   ]
  },
  {
   "cell_type": "code",
   "execution_count": 30,
   "metadata": {},
   "outputs": [],
   "source": [
    "instruction = \"\"\"Based on the question, analyze each option and select the most appropriate answer. Please provide a final answer to the question.\\n\"\"\"\n",
    "train_df = transform_arc_dataset(train_ds, instruction)\n",
    "valid_df = transform_arc_dataset(valid_ds, instruction)\n",
    "test_df = transform_arc_dataset(test_ds, instruction)"
   ]
  },
  {
   "cell_type": "code",
   "execution_count": 31,
   "metadata": {},
   "outputs": [
    {
     "name": "stdout",
     "output_type": "stream",
     "text": [
      "Based on the question, analyze each option and select the most appropriate answer. Please provide a final answer to the question.\n",
      "Which factor will most likely cause a person to develop a fever?\n",
      "A. a leg muscle relaxing after exercise\n",
      "B. a bacterial population in the bloodstream\n",
      "C. several viral particles on the skin\n",
      "D. carbohydrates being digested in the stomach\n"
     ]
    }
   ],
   "source": [
    "print(train_df.iloc[0,0])"
   ]
  },
  {
   "cell_type": "code",
   "execution_count": 32,
   "metadata": {},
   "outputs": [
    {
     "name": "stdout",
     "output_type": "stream",
     "text": [
      "                                                                                                                                                                                                                                                                                                                                                                 Question and Choices  \\\n",
      "0  Based on the question, analyze each option and select the most appropriate answer. Please provide a final answer to the question.\\nWhich factor will most likely cause a person to develop a fever?\\nA. a leg muscle relaxing after exercise\\nB. a bacterial population in the bloodstream\\nC. several viral particles on the skin\\nD. carbohydrates being digested in the stomach   \n",
      "1                                                  Based on the question, analyze each option and select the most appropriate answer. Please provide a final answer to the question.\\nLichens are symbiotic organisms made of green algae and fungi. What do the green algae supply to the fungi in this symbiotic relationship?\\nA. carbon dioxide\\nB. food\\nC. protection\\nD. water   \n",
      "\n",
      "                                         Answer  \n",
      "0  B. a bacterial population in the bloodstream  \n",
      "1                                       B. food  \n",
      "                                                                                                                                                                                                                                                                                                                                                                                                         Question and Choices  \\\n",
      "0                                                                                                                                                                        Based on the question, analyze each option and select the most appropriate answer. Please provide a final answer to the question.\\nWhich technology was developed most recently?\\nA. cellular telephone\\nB. television\\nC. refrigerator\\nD. airplane   \n",
      "1  Based on the question, analyze each option and select the most appropriate answer. Please provide a final answer to the question.\\nA student hypothesizes that algae are producers. Which question will best help the student determine if this is correct?\\nA. Do algae consume other organisms?\\nB. Which organisms consume algae?\\nC. Do algae use sunlight to make food?\\nD. Could an ecosystem survive without algae?   \n",
      "\n",
      "                                   Answer  \n",
      "0                   A. cellular telephone  \n",
      "1  C. Do algae use sunlight to make food?  \n",
      "                                                                                                                                                                                                                                                                                                                                                                                                                                         Question and Choices  \\\n",
      "0  Based on the question, analyze each option and select the most appropriate answer. Please provide a final answer to the question.\\nWhich statement best explains why photosynthesis is the foundation of most food webs?\\nA. Sunlight is the source of energy for nearly all ecosystems.\\nB. Most ecosystems are found on land instead of in water.\\nC. Carbon dioxide is more available than other gases.\\nD. The producers in all ecosystems are plants.   \n",
      "1                                                                                                                                                 Based on the question, analyze each option and select the most appropriate answer. Please provide a final answer to the question.\\nWhich piece of safety equipment is used to keep mold spores from entering the respiratory system?\\nA. safety goggles\\nB. breathing mask\\nC. rubber gloves\\nD. lead apron   \n",
      "\n",
      "                                                           Answer  \n",
      "0  A. Sunlight is the source of energy for nearly all ecosystems.  \n",
      "1                                               B. breathing mask  \n"
     ]
    }
   ],
   "source": [
    "print(train_df.head(2))\n",
    "print(valid_df.head(2))\n",
    "print(test_df.head(2))"
   ]
  },
  {
   "cell_type": "code",
   "execution_count": 33,
   "metadata": {},
   "outputs": [],
   "source": [
    "train_df.to_csv('../data/train_df-ARC-Easy.csv', index=False)\n",
    "valid_df.to_csv('../data/valid_df-ARC-Easy.csv', index=False)\n",
    "test_df.to_csv('../data/test_df-ARC-Easy.csv', index=False)"
   ]
  },
  {
   "cell_type": "markdown",
   "metadata": {},
   "source": [
    "## Pretrain Data - ARC corpus"
   ]
  },
  {
   "cell_type": "code",
   "execution_count": 3,
   "metadata": {},
   "outputs": [],
   "source": [
    "courpus_path = r\"../data/ARC-V1-Feb2018-2/ARC_Corpus.txt\""
   ]
  },
  {
   "cell_type": "code",
   "execution_count": 4,
   "metadata": {},
   "outputs": [
    {
     "name": "stdout",
     "output_type": "stream",
     "text": [
      "14621856\n"
     ]
    }
   ],
   "source": [
    "def process_large_file(file_path):\n",
    "    with open(file_path, \"r\", encoding=\"utf-8\") as file:\n",
    "        corpus = [line.strip(\"\\n\") for line in file.readlines()]\n",
    "    print(len(corpus))\n",
    "    return pd.DataFrame(corpus)\n",
    "    # pd.DataFrame(corpus).to_csv(r\"../data/ARC_corpus.csv\", header=False, index = False)\n",
    "\n",
    "\n",
    "corpus = process_large_file(courpus_path)"
   ]
  },
  {
   "cell_type": "code",
   "execution_count": 2,
   "metadata": {},
   "outputs": [],
   "source": [
    "corpus_csv_path = r\"../data/ARC_corpus.csv\"\n",
    "corpus_df = pd.read_csv(corpus_csv_path, header = None)"
   ]
  },
  {
   "cell_type": "code",
   "execution_count": 3,
   "metadata": {},
   "outputs": [
    {
     "name": "stdout",
     "output_type": "stream",
     "text": [
      "                                                                                                                                                                                                                                                                                                                                                               0\n",
      "0                                                                                                                                                                                                                                                          Large international companies are involved in bauxite, iron ore, diamond, and gold mining operations.\n",
      "1                                                                                                                                                                                                                                                                                                                               Paleoceanography, 8(2): 193-208.\n",
      "2                                                                                                                                                       Of course, for many in the media, “hydrogen sulphide delivery helps prevent disease damage in cells in certain disease models” will always be trumped by “farts cure cancer” when it comes to headlines.\n",
      "3                                                                                                                                                                                                                                                                                                        The same problems apply with wolf-domestic dog hybrids.\n",
      "4                                                                                                                                                                                                                                                                                                                                taking stock of delightful days\n",
      "5                                                                                                                                                                                                                        The an- tlu-opologist and the ethnologist find in trop- ical America some of the most complicated and interesting problems of research.\n",
      "6   ORDER ODONATA (Damselflies and Dragonflies) Diagnosis: large, to over three inches long; four wings, transparent and membranous, held vertically (damselflies) or laterally (dragonflies) at rest; chew- ing mouth parts, tooth-like; nymphs aquatic, feeding on mosquito larvae to small fish; adults terrestrial, feeding on other insects (Figure 14.27).\n",
      "7                                                                                                                                                                                                                                                   until they institute such safeguards and assurances of chaste maidenhood as characterize Hebrew social life?\n",
      "8                                                                                                                                                                                                                                                                       Sex brought the variations that could allow organisms to survive change” (2000, p. 163).\n",
      "9                                                                                                                                                 Homo erectus had a long tenure; the earliest Homo erectus fossils are dated to roughly 1.8 million years ago, while the youngest fossils assigned to this species date to roughly 300 thousand years ago (ka).\n",
      "10                                                                                                                                                                                                                                                                                                                    * -LSB- http://www.t13.org T13.org -RSB- .\n",
      "11                                                                                                                                                                                                                    free stresses the complete absence of external rule and the full right to make all of one's own decisions <you're free to do as you like>.\n",
      "12                                                                                                                                                                                                                                    We have brought together a group of experts from across Canada, the U.S., and Mexico to develop a practical reform agenda.\n",
      "13                                                                                                                                                                                                                                                                                                                                             Automatic[ edit ]\n",
      "14                                                                                                                                                                                                                                                                                      Maternal and infant health profile — United States/Mexico border region.\n",
      "15                                                                                                                                                                                                                                                        The kit is already stored in the cockpit and on the aft deck ready to be moved as quickly as possible.\n",
      "16                                                                                                                                                                                                                                                                                                                         Main article: Economy of Nazi Germany\n",
      "17                                                                                                                                                                                                                                                                                              They developed tentacles and an opening like a mouth at one end.\n",
      "18                                                                                                                                                                                                                  English: Finless porpoise German ... be linked with reproductive cycles and ... occupy an important place in the daily life of people in ...\n",
      "19                                                                                                                                                                                                                                                                                                              Tested with DevC++ (so a gcc version around 3.5)\n"
     ]
    }
   ],
   "source": [
    "pd.set_option('display.max_colwidth', None)\n",
    "print(corpus_df.head(20))"
   ]
  },
  {
   "cell_type": "code",
   "execution_count": 4,
   "metadata": {},
   "outputs": [],
   "source": [
    "corpus_df['text_length'] = corpus_df.iloc[:,0].str.len()"
   ]
  },
  {
   "cell_type": "code",
   "execution_count": 5,
   "metadata": {},
   "outputs": [],
   "source": [
    "sorted_df = corpus_df.sort_values(by='text_length', ascending=False)"
   ]
  },
  {
   "cell_type": "code",
   "execution_count": 6,
   "metadata": {},
   "outputs": [
    {
     "name": "stdout",
     "output_type": "stream",
     "text": [
      "                                                                                                                                                                                                                                                                                                                                                                                                                                                                                                                                                                                                                                                                                                                                                                                                                                                                                                                                                                                                                                                                                                                                                                                                                                                                                                                                                                                                                                                                                                                                                                                                                                                                                                                                                                                                                                                                                                                                                                                                                                                                                                                                                                                                                                                                                                                                                                                                                                                                                                                                                                                                                                                                                                                                                                                                                                                                                                                                                                                                                                                                                                                   0  \\\n",
      "12946091  AG = Province of Agrigento AL = Province of Alessandria AN = Province of Ancona AO = Valle d'Aosta AP = Province of Ascoli Piceno AQ = Province of L'Aquila AR = Province of Arezzo AT = Province of Asti AV = Province of Avellino BA = Province of Bari BG = Province of Bergamo BI = Province of Biella BL = Province of Belluno BN = Province of Benevento BO = Province of Bologna BR = Province of Brindisi BS = Province of Brescia BT = Province of Barletta-Andria-Trani BZ = Province of Bolzano CA = Province of Cagliari CB = Province of Campobasso CE = Province of Caserta CH = Province of Chieti CI = Province of Carbonia-Iglesias CL = Province of Caltanissetta CN = Province of Cuneo CO = Province of Como CR = Province of Cremona CS = Province of Cosenza CT = Province of Catania CZ = Province of Catanzaro EN = Province of Enna FC = Province of Forlì-Cesena FE = Province of Ferrara FG = Province of Foggia FI = Province of Florence FM = Province of Fermo FR = Province of Frosinone GE = Province of Genoa GO = Province of Gorizia GR = Province of Grosseto IM = Province of Imperia IS = Province of Isernia KR = Province of Crotone LC = Province of Lecco LE = Province of Lecce LI = Province of Livorno LO = Province of Lodi LT = Province of Latina LU = Province of Lucca MB = Province of Monza and Brianza MC = Province of Macerata ME = Province of Messina MI = Province of Milan MN = Province of Mantua MO = Province of Modena MS = Province of Massa-Carrara MT = Province of Matera NA = Province of Naples NO = Province of Novara NU = Province of Nuoro OG = Province of Ogliastra OR = Province of Oristano OT = Province of Olbia-Tempio PA = Province of Palermo PC = Province of Piacenza PD = Province of Padua PE = Province of Pescara PG = Province of Perugia PI = Province of Pisa PN = Province of Pordenone PO = Province of Prato PR = Province of Parma PT = Province of Pistoia PU = Province of Pesaro and Urbino PV = Province of Pavia PZ = Province of Potenza RA = Province of Ravenna RC = Province of Reggio Calabria RE = Province of Reggio Emilia RG = Province of Ragusa RI = Province of Rieti RM = Province of Rome RN = Province of Rimini RO = Province of Rovigo SA = Province of Salerno SI = Province of Siena SO = Province of Sondrio SP = Province of La Spezia SR = Province of Siracusa SS = Province of Sassari SV = Province of Savona TA = Province of Taranto TE = Province of Teramo TN = Province of Trento TO = Province of Turin TP = Province of Trapani TR = Province of Terni TS = Province of Trieste TV = Province of Treviso UD = Province of Udine VA = Province of Varese VB = Province of Verbano-Cusio-Ossola VC = Province of Vercelli VE = Province of Venice VI = Province of Vicenza VR = Province of Verona VS = Province of Medio Campidano VT = Province of Viterbo VV = Province of Vibo Valentia Category : Image insertion templates τ τ Category : Italy templates en : Template : ProvinciaIT -LRB- coat of arms -RRB- vi : Bản mẫu : ProvinciaIT -LRB- coat of arms -RRB-   \n",
      "11089264                A great deal happened in the first second of the universe 's life : ImageSize = width :720 height :1000 PlotArea = left :40 right :256 bottom :75 top :75 Colors = id : period1 value : rgb -LRB- 1,1,0.7 -RRB- # light yellow id : period2 value : rgb -LRB- 0.7,0.7,1 -RRB- # light blue id : events value : rgb -LRB- 1,0.7,1 -RRB- # light purple id : era1 Value : yellowgreen id : era2 value : lightorange id : time1 Value : coral id : time2 Value : lavender DateFormat = yyyy Period = from : -430 till :155 TimeAxis = format : yyyy orientation : vertical # order : reverse does not work ScaleMajor = unit : year increment :10 start : -430 # second ScaleMinor = unit : year increment :2 start : -430 AlignBars = justify BarData = bar : Clock bar : Era bar : Dummy3 bar : Periods bar : Dummy4 bar : Events TextData = fontsize : M pos :-LRB- 240,75 -RRB- text : Planck epoch pos :-LRB- 250,50 -RRB- text : Big Bang pos :-LRB- 20,50 -RRB- text : `` 0 : Linear time '' pos :-LRB- 10,980 -RRB- text : `` Logarithmic time : '' text : `` 10 · log10 second '' pos :-LRB- 154,946 -RRB- text : `` NEXT '' pos :-LRB- 117,931 -RRB- text : The Stelliferous Era pos :-LRB- 245,950 -RRB- text : `` Reionization '' LineData = layer : front at :123 frompos :358 tillpos :369 width :0.5 # Matter domination points :-LRB- 369,878 -RRB- -LRB- 402,800 -RRB- width :0.5 points :-LRB- 402,800 -RRB- -LRB- 413,800 -RRB- width :0.5 PlotData = textcolor : black fontsize : M width :53 bar : Clock color : events align : right shift :-LRB- 28,3 -RRB- mark : -LRB- line , teal -RRB- at : -120 text : `` One picosecond '' at : -90 text : `` One nanosecond '' at : -60 text : `` One microsecond '' at : -30 text : `` One millisecond '' at :0 text : `` One second '' at :36 text : `` One hour '' at :75 text : `` One year '' at :105 text : `` One thousand years '' shift :-LRB- 43,3 -RRB- at :135 text : `` One million years '' width :53 bar : Era mark : -LRB- line , white -RRB- align : center shift :-LRB- 0,0 -RRB- from : -430 till :135 color : era1 text : `` The Primordial Era '' width :53 bar : Dummy3 width :158 bar : Periods align : center shift :-LRB- 0,0 -RRB- mark : -LRB- line , white -RRB- from : -430 till : -360 color : period1 text : Grand unification epoch from : -360 till : -120 color : period2 text : Electroweak epoch from : -120 till : -60 color : period1 text : Quark epoch from : -60 till :0 shift :-LRB- -40,0 -RRB- align : left color : period2 text : Hadron epoch from : 0 till :23 color : period1 text : Lepton epoch from : 23 till :131 color : period2 text : Photon epoch from :131 till :155 color : period1 text : `` Dark Ages '' width :53 bar : Dummy4 width :53 mark : -LRB- line , purple -RRB- textcolor : black fontsize : M bar : Events color : events align : left shift :-LRB- 30,-4 -RRB- at : -430 shift :-LRB- 30,-12 -RRB- text : `` Planck time , the smallest theoretically observable ~ unit of time and the time before which science is ~ unable to describe the universe .   \n",
      "1530812                                      m3/d '' , link = `` Barrel per day '' , -RCB- , -LSB- `` L/h '' -RSB- = -LCB- name1 = `` litre per hour '' , name1_us = `` liter per hour '' , name2 = `` litres per hour '' , name2_us = `` liters per hour '' , symbol = `` L/h '' , utype = `` flow '' , scale = 2.77777777777777759325635595702e-7 , default = `` impgal/h USgal/h '' , link = `` Cubic metre per second '' , -RCB- , -LSB- `` L/min '' -RSB- = -LCB- name1 = `` litre per minute '' , name1_us = `` liter per minute '' , name2 = `` litres per minute '' , name2_us = `` liters per minute '' , symbol = `` L/min '' , utype = `` flow '' , scale = 1.66666666666666674653622670643e-5 , default = `` impgal/min USgal/min '' , link = `` Cubic metre per second '' , -RCB- , -LSB- `` L/s '' -RSB- = -LCB- name1 = `` litre per second '' , name1_us = `` liter per second '' , name2 = `` litres per second '' , name2_us = `` liters per second '' , symbol = `` L/s '' , utype = `` flow '' , scale = 0.001 , default = `` cuft/s '' , link = `` Cubic metre per second '' , -RCB- , -LSB- `` m3/a '' -RSB- = -LCB- name1 = `` cubic metre per annum '' , name1_us = `` cubic meter per annum '' , name2 = `` cubic metres per annum '' , name2_us = `` cubic meters per annum '' , symbol = `` m3/a '' , utype = `` flow '' , scale = 3.16880878140289472458082686065e-8 , default = `` cuft/a '' , link = `` Cubic metre per second '' , -RCB- , -LSB- `` m3/d '' -RSB- = -LCB- name1 = `` cubic metre per day '' , name1_us = `` cubic meter per day '' , name2 = `` cubic metres per day '' , name2_us = `` cubic meters per day '' , symbol = `` m3/d '' , utype = `` flow '' , scale = 1.15740740740740734993465335667e-5 , default = `` cuft/d '' , link = `` Cubic metre per second '' , -RCB- , -LSB- `` m3/h '' -RSB- = -LCB- name1 = `` cubic metre per hour '' , name1_us = `` cubic meter per hour '' , name2 = `` cubic metres per hour '' , name2_us = `` cubic meters per hour '' , symbol = `` m3/h '' , utype = `` flow '' , scale = 0.00027777777777777777753684396167 , default = `` cuft/h '' , link = `` Cubic metre per second '' , -RCB- , -LSB- `` m3/min '' -RSB- = -LCB- name1 = `` cubic metre per minute '' , name1_us = `` cubic meter per minute '' , name2 = `` cubic metres per minute '' , name2_us = `` cubic meters per minute '' , symbol = `` m3/min '' , utype = `` flow '' , scale = 0.0166666666666666664353702032031 , default = `` cuft/min '' , link = `` Cubic metre per second '' , -RCB- , -LSB- `` m3/s '' -RSB- = -LCB- name1 = `` cubic metre per second '' , name1_us = `` cubic meter per second '' , name2 = `` cubic metres per second '' , name2_us = `` cubic meters per second '' , symbol = `` m3/s '' , utype = `` flow '' , scale = 1 , default = `` cuft/s '' , -RCB- , -LSB- `` Moilbbl/a '' -RSB- = -LCB- name1 = `` million barrels per year '' , name2 = `` million barrels per year '' , symbol = `` Mbbl/a '' , utype = `` flow '' , scale = 0.00503800336299338371442990691662 , default = `` v * 1.58987294928 &lt; 10 !   \n",
      "2985737                                      m3/d '' , link = `` Barrel per day '' , -RCB- , -LSB- `` L/h '' -RSB- = -LCB- name1 = `` litre per hour '' , name1_us = `` liter per hour '' , name2 = `` litres per hour '' , name2_us = `` liters per hour '' , symbol = `` L/h '' , utype = `` flow '' , scale = 2.77777777777777759325635595702e-7 , default = `` impgal/h USgal/h '' , link = `` Cubic metre per second '' , -RCB- , -LSB- `` L/min '' -RSB- = -LCB- name1 = `` litre per minute '' , name1_us = `` liter per minute '' , name2 = `` litres per minute '' , name2_us = `` liters per minute '' , symbol = `` L/min '' , utype = `` flow '' , scale = 1.66666666666666674653622670643e-5 , default = `` impgal/min USgal/min '' , link = `` Cubic metre per second '' , -RCB- , -LSB- `` L/s '' -RSB- = -LCB- name1 = `` litre per second '' , name1_us = `` liter per second '' , name2 = `` litres per second '' , name2_us = `` liters per second '' , symbol = `` L/s '' , utype = `` flow '' , scale = 0.001 , default = `` cuft/s '' , link = `` Cubic metre per second '' , -RCB- , -LSB- `` m3/a '' -RSB- = -LCB- name1 = `` cubic metre per annum '' , name1_us = `` cubic meter per annum '' , name2 = `` cubic metres per annum '' , name2_us = `` cubic meters per annum '' , symbol = `` m3/a '' , utype = `` flow '' , scale = 3.16880878140289472458082686065e-8 , default = `` cuft/a '' , link = `` Cubic metre per second '' , -RCB- , -LSB- `` m3/d '' -RSB- = -LCB- name1 = `` cubic metre per day '' , name1_us = `` cubic meter per day '' , name2 = `` cubic metres per day '' , name2_us = `` cubic meters per day '' , symbol = `` m3/d '' , utype = `` flow '' , scale = 1.15740740740740734993465335667e-5 , default = `` cuft/d '' , link = `` Cubic metre per second '' , -RCB- , -LSB- `` m3/h '' -RSB- = -LCB- name1 = `` cubic metre per hour '' , name1_us = `` cubic meter per hour '' , name2 = `` cubic metres per hour '' , name2_us = `` cubic meters per hour '' , symbol = `` m3/h '' , utype = `` flow '' , scale = 0.00027777777777777777753684396167 , default = `` cuft/h '' , link = `` Cubic metre per second '' , -RCB- , -LSB- `` m3/min '' -RSB- = -LCB- name1 = `` cubic metre per minute '' , name1_us = `` cubic meter per minute '' , name2 = `` cubic metres per minute '' , name2_us = `` cubic meters per minute '' , symbol = `` m3/min '' , utype = `` flow '' , scale = 0.0166666666666666664353702032031 , default = `` cuft/min '' , link = `` Cubic metre per second '' , -RCB- , -LSB- `` m3/s '' -RSB- = -LCB- name1 = `` cubic metre per second '' , name1_us = `` cubic meter per second '' , name2 = `` cubic metres per second '' , name2_us = `` cubic meters per second '' , symbol = `` m3/s '' , utype = `` flow '' , scale = 1 , default = `` cuft/s '' , -RCB- , -LSB- `` Moilbbl/a '' -RSB- = -LCB- name1 = `` million barrels per year '' , name2 = `` million barrels per year '' , symbol = `` Mbbl/a '' , utype = `` flow '' , scale = 0.00503800336299338371442990691662 , default = `` v * 1.58987294928 &lt; 10 !   \n",
      "11513705                                                          -- TOTAL PRECIPITATION IMPERIAL -- &gt; -RCB- / 2.54 round -RCB- -RCB- -RCB- +1 -RCB- -RCB- -RCB- -RCB- -RCB- -RCB- / 25.4 round -RCB- -RCB- -RCB- +2 -RCB- -RCB- -RCB- -RCB- -RCB- -RCB- -RCB- -RCB- -RCB- -RCB- -RCB- / 2.54 round -RCB- -RCB- -RCB- +1 -RCB- -RCB- -RCB- -RCB- -RCB- -RCB- / 25.4 round -RCB- -RCB- -RCB- +2 -RCB- -RCB- -RCB- -RCB- -RCB- -RCB- -RCB- -RCB- -RCB- -RCB- -RCB- / 2.54 round -RCB- -RCB- -RCB- +1 -RCB- -RCB- -RCB- -RCB- -RCB- -RCB- / 25.4 round -RCB- -RCB- -RCB- +2 -RCB- -RCB- -RCB- -RCB- -RCB- -RCB- -RCB- -RCB- -RCB- -RCB- -RCB- / 2.54 round -RCB- -RCB- -RCB- +1 -RCB- -RCB- -RCB- -RCB- -RCB- -RCB- / 25.4 round -RCB- -RCB- -RCB- +2 -RCB- -RCB- -RCB- -RCB- -RCB- -RCB- -RCB- -RCB- -RCB- -RCB- -RCB- / 2.54 round -RCB- -RCB- -RCB- +1 -RCB- -RCB- -RCB- -RCB- -RCB- -RCB- / 25.4 round -RCB- -RCB- -RCB- +2 -RCB- -RCB- -RCB- -RCB- -RCB- -RCB- -RCB- -RCB- -RCB- -RCB- -RCB- / 2.54 round -RCB- -RCB- -RCB- +1 -RCB- -RCB- -RCB- -RCB- -RCB- -RCB- / 25.4 round -RCB- -RCB- -RCB- +2 -RCB- -RCB- -RCB- -RCB- -RCB- -RCB- -RCB- -RCB- -RCB- -RCB- -RCB- / 2.54 round -RCB- -RCB- -RCB- +1 -RCB- -RCB- -RCB- -RCB- -RCB- -RCB- / 25.4 round -RCB- -RCB- -RCB- +2 -RCB- -RCB- -RCB- -RCB- -RCB- -RCB- -RCB- -RCB- -RCB- -RCB- -RCB- / 2.54 round -RCB- -RCB- -RCB- +1 -RCB- -RCB- -RCB- -RCB- -RCB- -RCB- / 25.4 round -RCB- -RCB- -RCB- +2 -RCB- -RCB- -RCB- -RCB- -RCB- -RCB- -RCB- -RCB- -RCB- -RCB- -RCB- / 2.54 round -RCB- -RCB- -RCB- +1 -RCB- -RCB- -RCB- -RCB- -RCB- -RCB- / 25.4 round -RCB- -RCB- -RCB- +2 -RCB- -RCB- -RCB- -RCB- -RCB- -RCB- -RCB- -RCB- -RCB- -RCB- -RCB- / 2.54 round -RCB- -RCB- -RCB- +1 -RCB- -RCB- -RCB- -RCB- -RCB- -RCB- / 25.4 round -RCB- -RCB- -RCB- +2 -RCB- -RCB- -RCB- -RCB- -RCB- -RCB- -RCB- -RCB- -RCB- -RCB- -RCB- / 2.54 round -RCB- -RCB- -RCB- +1 -RCB- -RCB- -RCB- -RCB- -RCB- -RCB- / 25.4 round -RCB- -RCB- -RCB- +2 -RCB- -RCB- -RCB- -RCB- -RCB- -RCB- -RCB- -RCB- -RCB- -RCB- -RCB- / 2.54 round -RCB- -RCB- -RCB- +1 -RCB- -RCB- -RCB- -RCB- -RCB- -RCB- / 25.4 round -RCB- -RCB- -RCB- +2 -RCB- -RCB- -RCB- -RCB- -RCB- -RCB- -RCB- -RCB- -RCB- -RCB- -RCB- / 2.54 round -RCB- -RCB- -RCB- +1 -RCB- -RCB- -RCB- -RCB- -RCB- -RCB- / 25.4 round -RCB- -RCB- -RCB- +2 -RCB- -RCB- -RCB- -RCB- -RCB- -RCB- + -RCB- -RCB- + -RCB- -RCB- + -RCB- -RCB- + -RCB- -RCB- + -RCB- -RCB- + -RCB- -RCB- + -RCB- -RCB- + -RCB- -RCB- + -RCB- -RCB- + -RCB- -RCB- + -RCB- -RCB- -RCB- -RCB- -RCB- -RCB- + -RCB- -RCB- + -RCB- -RCB- + -RCB- -RCB- + -RCB- -RCB- + -RCB- -RCB- + -RCB- -RCB- + -RCB- -RCB- + -RCB- -RCB- + -RCB- -RCB- + -RCB- -RCB- + -RCB- -RCB- -RRB- / 2.54 round -RCB- -RCB- -RCB- +1 -RCB- -RCB- -RCB- -RCB- -RCB- -RCB- + -RCB- -RCB- + -RCB- -RCB- + -RCB- -RCB- + -RCB- -RCB- + -RCB- -RCB- + -RCB- -RCB- + -RCB- -RCB- + -RCB- -RCB- + -RCB- -RCB- + -RCB- -RCB- + -RCB- -RCB- -RRB- / 25.4 round -RCB- -RCB- -RCB- +2 -RCB- -RCB- -RCB- -RCB- -RCB- -RCB- -RCB- -RCB- -RCB- -RCB- -RCB- -RCB- -RCB- -RCB- -RCB- -RCB- &lt; !   \n",
      "7508582                                                           -- TOTAL PRECIPITATION IMPERIAL -- &gt; -RCB- / 2.54 round -RCB- -RCB- -RCB- +1 -RCB- -RCB- -RCB- -RCB- -RCB- -RCB- / 25.4 round -RCB- -RCB- -RCB- +2 -RCB- -RCB- -RCB- -RCB- -RCB- -RCB- -RCB- -RCB- -RCB- -RCB- -RCB- / 2.54 round -RCB- -RCB- -RCB- +1 -RCB- -RCB- -RCB- -RCB- -RCB- -RCB- / 25.4 round -RCB- -RCB- -RCB- +2 -RCB- -RCB- -RCB- -RCB- -RCB- -RCB- -RCB- -RCB- -RCB- -RCB- -RCB- / 2.54 round -RCB- -RCB- -RCB- +1 -RCB- -RCB- -RCB- -RCB- -RCB- -RCB- / 25.4 round -RCB- -RCB- -RCB- +2 -RCB- -RCB- -RCB- -RCB- -RCB- -RCB- -RCB- -RCB- -RCB- -RCB- -RCB- / 2.54 round -RCB- -RCB- -RCB- +1 -RCB- -RCB- -RCB- -RCB- -RCB- -RCB- / 25.4 round -RCB- -RCB- -RCB- +2 -RCB- -RCB- -RCB- -RCB- -RCB- -RCB- -RCB- -RCB- -RCB- -RCB- -RCB- / 2.54 round -RCB- -RCB- -RCB- +1 -RCB- -RCB- -RCB- -RCB- -RCB- -RCB- / 25.4 round -RCB- -RCB- -RCB- +2 -RCB- -RCB- -RCB- -RCB- -RCB- -RCB- -RCB- -RCB- -RCB- -RCB- -RCB- / 2.54 round -RCB- -RCB- -RCB- +1 -RCB- -RCB- -RCB- -RCB- -RCB- -RCB- / 25.4 round -RCB- -RCB- -RCB- +2 -RCB- -RCB- -RCB- -RCB- -RCB- -RCB- -RCB- -RCB- -RCB- -RCB- -RCB- / 2.54 round -RCB- -RCB- -RCB- +1 -RCB- -RCB- -RCB- -RCB- -RCB- -RCB- / 25.4 round -RCB- -RCB- -RCB- +2 -RCB- -RCB- -RCB- -RCB- -RCB- -RCB- -RCB- -RCB- -RCB- -RCB- -RCB- / 2.54 round -RCB- -RCB- -RCB- +1 -RCB- -RCB- -RCB- -RCB- -RCB- -RCB- / 25.4 round -RCB- -RCB- -RCB- +2 -RCB- -RCB- -RCB- -RCB- -RCB- -RCB- -RCB- -RCB- -RCB- -RCB- -RCB- / 2.54 round -RCB- -RCB- -RCB- +1 -RCB- -RCB- -RCB- -RCB- -RCB- -RCB- / 25.4 round -RCB- -RCB- -RCB- +2 -RCB- -RCB- -RCB- -RCB- -RCB- -RCB- -RCB- -RCB- -RCB- -RCB- -RCB- / 2.54 round -RCB- -RCB- -RCB- +1 -RCB- -RCB- -RCB- -RCB- -RCB- -RCB- / 25.4 round -RCB- -RCB- -RCB- +2 -RCB- -RCB- -RCB- -RCB- -RCB- -RCB- -RCB- -RCB- -RCB- -RCB- -RCB- / 2.54 round -RCB- -RCB- -RCB- +1 -RCB- -RCB- -RCB- -RCB- -RCB- -RCB- / 25.4 round -RCB- -RCB- -RCB- +2 -RCB- -RCB- -RCB- -RCB- -RCB- -RCB- -RCB- -RCB- -RCB- -RCB- -RCB- / 2.54 round -RCB- -RCB- -RCB- +1 -RCB- -RCB- -RCB- -RCB- -RCB- -RCB- / 25.4 round -RCB- -RCB- -RCB- +2 -RCB- -RCB- -RCB- -RCB- -RCB- -RCB- -RCB- -RCB- -RCB- -RCB- -RCB- / 2.54 round -RCB- -RCB- -RCB- +1 -RCB- -RCB- -RCB- -RCB- -RCB- -RCB- / 25.4 round -RCB- -RCB- -RCB- +2 -RCB- -RCB- -RCB- -RCB- -RCB- -RCB- + -RCB- -RCB- + -RCB- -RCB- + -RCB- -RCB- + -RCB- -RCB- + -RCB- -RCB- + -RCB- -RCB- + -RCB- -RCB- + -RCB- -RCB- + -RCB- -RCB- + -RCB- -RCB- + -RCB- -RCB- -RCB- -RCB- -RCB- -RCB- + -RCB- -RCB- + -RCB- -RCB- + -RCB- -RCB- + -RCB- -RCB- + -RCB- -RCB- + -RCB- -RCB- + -RCB- -RCB- + -RCB- -RCB- + -RCB- -RCB- + -RCB- -RCB- + -RCB- -RCB- -RRB- / 2.54 round -RCB- -RCB- -RCB- +1 -RCB- -RCB- -RCB- -RCB- -RCB- -RCB- + -RCB- -RCB- + -RCB- -RCB- + -RCB- -RCB- + -RCB- -RCB- + -RCB- -RCB- + -RCB- -RCB- + -RCB- -RCB- + -RCB- -RCB- + -RCB- -RCB- + -RCB- -RCB- + -RCB- -RCB- -RRB- / 25.4 round -RCB- -RCB- -RCB- +2 -RCB- -RCB- -RCB- -RCB- -RCB- -RCB- -RCB- -RCB- -RCB- -RCB- -RCB- -RCB- -RCB- -RCB- -RCB- -RCB- &lt; !   \n",
      "11379434                                                          -- TOTAL PRECIPITATION IMPERIAL -- &gt; -RCB- / 2.54 round -RCB- -RCB- -RCB- +1 -RCB- -RCB- -RCB- -RCB- -RCB- -RCB- / 25.4 round -RCB- -RCB- -RCB- +2 -RCB- -RCB- -RCB- -RCB- -RCB- -RCB- -RCB- -RCB- -RCB- -RCB- -RCB- / 2.54 round -RCB- -RCB- -RCB- +1 -RCB- -RCB- -RCB- -RCB- -RCB- -RCB- / 25.4 round -RCB- -RCB- -RCB- +2 -RCB- -RCB- -RCB- -RCB- -RCB- -RCB- -RCB- -RCB- -RCB- -RCB- -RCB- / 2.54 round -RCB- -RCB- -RCB- +1 -RCB- -RCB- -RCB- -RCB- -RCB- -RCB- / 25.4 round -RCB- -RCB- -RCB- +2 -RCB- -RCB- -RCB- -RCB- -RCB- -RCB- -RCB- -RCB- -RCB- -RCB- -RCB- / 2.54 round -RCB- -RCB- -RCB- +1 -RCB- -RCB- -RCB- -RCB- -RCB- -RCB- / 25.4 round -RCB- -RCB- -RCB- +2 -RCB- -RCB- -RCB- -RCB- -RCB- -RCB- -RCB- -RCB- -RCB- -RCB- -RCB- / 2.54 round -RCB- -RCB- -RCB- +1 -RCB- -RCB- -RCB- -RCB- -RCB- -RCB- / 25.4 round -RCB- -RCB- -RCB- +2 -RCB- -RCB- -RCB- -RCB- -RCB- -RCB- -RCB- -RCB- -RCB- -RCB- -RCB- / 2.54 round -RCB- -RCB- -RCB- +1 -RCB- -RCB- -RCB- -RCB- -RCB- -RCB- / 25.4 round -RCB- -RCB- -RCB- +2 -RCB- -RCB- -RCB- -RCB- -RCB- -RCB- -RCB- -RCB- -RCB- -RCB- -RCB- / 2.54 round -RCB- -RCB- -RCB- +1 -RCB- -RCB- -RCB- -RCB- -RCB- -RCB- / 25.4 round -RCB- -RCB- -RCB- +2 -RCB- -RCB- -RCB- -RCB- -RCB- -RCB- -RCB- -RCB- -RCB- -RCB- -RCB- / 2.54 round -RCB- -RCB- -RCB- +1 -RCB- -RCB- -RCB- -RCB- -RCB- -RCB- / 25.4 round -RCB- -RCB- -RCB- +2 -RCB- -RCB- -RCB- -RCB- -RCB- -RCB- -RCB- -RCB- -RCB- -RCB- -RCB- / 2.54 round -RCB- -RCB- -RCB- +1 -RCB- -RCB- -RCB- -RCB- -RCB- -RCB- / 25.4 round -RCB- -RCB- -RCB- +2 -RCB- -RCB- -RCB- -RCB- -RCB- -RCB- -RCB- -RCB- -RCB- -RCB- -RCB- / 2.54 round -RCB- -RCB- -RCB- +1 -RCB- -RCB- -RCB- -RCB- -RCB- -RCB- / 25.4 round -RCB- -RCB- -RCB- +2 -RCB- -RCB- -RCB- -RCB- -RCB- -RCB- -RCB- -RCB- -RCB- -RCB- -RCB- / 2.54 round -RCB- -RCB- -RCB- +1 -RCB- -RCB- -RCB- -RCB- -RCB- -RCB- / 25.4 round -RCB- -RCB- -RCB- +2 -RCB- -RCB- -RCB- -RCB- -RCB- -RCB- -RCB- -RCB- -RCB- -RCB- -RCB- / 2.54 round -RCB- -RCB- -RCB- +1 -RCB- -RCB- -RCB- -RCB- -RCB- -RCB- / 25.4 round -RCB- -RCB- -RCB- +2 -RCB- -RCB- -RCB- -RCB- -RCB- -RCB- -RCB- -RCB- -RCB- -RCB- -RCB- / 2.54 round -RCB- -RCB- -RCB- +1 -RCB- -RCB- -RCB- -RCB- -RCB- -RCB- / 25.4 round -RCB- -RCB- -RCB- +2 -RCB- -RCB- -RCB- -RCB- -RCB- -RCB- + -RCB- -RCB- + -RCB- -RCB- + -RCB- -RCB- + -RCB- -RCB- + -RCB- -RCB- + -RCB- -RCB- + -RCB- -RCB- + -RCB- -RCB- + -RCB- -RCB- + -RCB- -RCB- + -RCB- -RCB- -RCB- -RCB- -RCB- -RCB- + -RCB- -RCB- + -RCB- -RCB- + -RCB- -RCB- + -RCB- -RCB- + -RCB- -RCB- + -RCB- -RCB- + -RCB- -RCB- + -RCB- -RCB- + -RCB- -RCB- + -RCB- -RCB- + -RCB- -RCB- -RRB- / 2.54 round -RCB- -RCB- -RCB- +1 -RCB- -RCB- -RCB- -RCB- -RCB- -RCB- + -RCB- -RCB- + -RCB- -RCB- + -RCB- -RCB- + -RCB- -RCB- + -RCB- -RCB- + -RCB- -RCB- + -RCB- -RCB- + -RCB- -RCB- + -RCB- -RCB- + -RCB- -RCB- + -RCB- -RCB- -RRB- / 25.4 round -RCB- -RCB- -RCB- +2 -RCB- -RCB- -RCB- -RCB- -RCB- -RCB- -RCB- -RCB- -RCB- -RCB- -RCB- -RCB- -RCB- -RCB- -RCB- -RCB- &lt; !   \n",
      "13040319                                                          -- TOTAL PRECIPITATION IMPERIAL -- &gt; -RCB- / 2.54 round -RCB- -RCB- -RCB- +1 -RCB- -RCB- -RCB- -RCB- -RCB- -RCB- / 25.4 round -RCB- -RCB- -RCB- +2 -RCB- -RCB- -RCB- -RCB- -RCB- -RCB- -RCB- -RCB- -RCB- -RCB- -RCB- / 2.54 round -RCB- -RCB- -RCB- +1 -RCB- -RCB- -RCB- -RCB- -RCB- -RCB- / 25.4 round -RCB- -RCB- -RCB- +2 -RCB- -RCB- -RCB- -RCB- -RCB- -RCB- -RCB- -RCB- -RCB- -RCB- -RCB- / 2.54 round -RCB- -RCB- -RCB- +1 -RCB- -RCB- -RCB- -RCB- -RCB- -RCB- / 25.4 round -RCB- -RCB- -RCB- +2 -RCB- -RCB- -RCB- -RCB- -RCB- -RCB- -RCB- -RCB- -RCB- -RCB- -RCB- / 2.54 round -RCB- -RCB- -RCB- +1 -RCB- -RCB- -RCB- -RCB- -RCB- -RCB- / 25.4 round -RCB- -RCB- -RCB- +2 -RCB- -RCB- -RCB- -RCB- -RCB- -RCB- -RCB- -RCB- -RCB- -RCB- -RCB- / 2.54 round -RCB- -RCB- -RCB- +1 -RCB- -RCB- -RCB- -RCB- -RCB- -RCB- / 25.4 round -RCB- -RCB- -RCB- +2 -RCB- -RCB- -RCB- -RCB- -RCB- -RCB- -RCB- -RCB- -RCB- -RCB- -RCB- / 2.54 round -RCB- -RCB- -RCB- +1 -RCB- -RCB- -RCB- -RCB- -RCB- -RCB- / 25.4 round -RCB- -RCB- -RCB- +2 -RCB- -RCB- -RCB- -RCB- -RCB- -RCB- -RCB- -RCB- -RCB- -RCB- -RCB- / 2.54 round -RCB- -RCB- -RCB- +1 -RCB- -RCB- -RCB- -RCB- -RCB- -RCB- / 25.4 round -RCB- -RCB- -RCB- +2 -RCB- -RCB- -RCB- -RCB- -RCB- -RCB- -RCB- -RCB- -RCB- -RCB- -RCB- / 2.54 round -RCB- -RCB- -RCB- +1 -RCB- -RCB- -RCB- -RCB- -RCB- -RCB- / 25.4 round -RCB- -RCB- -RCB- +2 -RCB- -RCB- -RCB- -RCB- -RCB- -RCB- -RCB- -RCB- -RCB- -RCB- -RCB- / 2.54 round -RCB- -RCB- -RCB- +1 -RCB- -RCB- -RCB- -RCB- -RCB- -RCB- / 25.4 round -RCB- -RCB- -RCB- +2 -RCB- -RCB- -RCB- -RCB- -RCB- -RCB- -RCB- -RCB- -RCB- -RCB- -RCB- / 2.54 round -RCB- -RCB- -RCB- +1 -RCB- -RCB- -RCB- -RCB- -RCB- -RCB- / 25.4 round -RCB- -RCB- -RCB- +2 -RCB- -RCB- -RCB- -RCB- -RCB- -RCB- -RCB- -RCB- -RCB- -RCB- -RCB- / 2.54 round -RCB- -RCB- -RCB- +1 -RCB- -RCB- -RCB- -RCB- -RCB- -RCB- / 25.4 round -RCB- -RCB- -RCB- +2 -RCB- -RCB- -RCB- -RCB- -RCB- -RCB- -RCB- -RCB- -RCB- -RCB- -RCB- / 2.54 round -RCB- -RCB- -RCB- +1 -RCB- -RCB- -RCB- -RCB- -RCB- -RCB- / 25.4 round -RCB- -RCB- -RCB- +2 -RCB- -RCB- -RCB- -RCB- -RCB- -RCB- -RCB- -RCB- -RCB- -RCB- -RCB- / 2.54 round -RCB- -RCB- -RCB- +1 -RCB- -RCB- -RCB- -RCB- -RCB- -RCB- / 25.4 round -RCB- -RCB- -RCB- +2 -RCB- -RCB- -RCB- -RCB- -RCB- -RCB- + -RCB- -RCB- + -RCB- -RCB- + -RCB- -RCB- + -RCB- -RCB- + -RCB- -RCB- + -RCB- -RCB- + -RCB- -RCB- + -RCB- -RCB- + -RCB- -RCB- + -RCB- -RCB- + -RCB- -RCB- -RCB- -RCB- -RCB- -RCB- + -RCB- -RCB- + -RCB- -RCB- + -RCB- -RCB- + -RCB- -RCB- + -RCB- -RCB- + -RCB- -RCB- + -RCB- -RCB- + -RCB- -RCB- + -RCB- -RCB- + -RCB- -RCB- + -RCB- -RCB- -RRB- / 2.54 round -RCB- -RCB- -RCB- +1 -RCB- -RCB- -RCB- -RCB- -RCB- -RCB- + -RCB- -RCB- + -RCB- -RCB- + -RCB- -RCB- + -RCB- -RCB- + -RCB- -RCB- + -RCB- -RCB- + -RCB- -RCB- + -RCB- -RCB- + -RCB- -RCB- + -RCB- -RCB- + -RCB- -RCB- -RRB- / 25.4 round -RCB- -RCB- -RCB- +2 -RCB- -RCB- -RCB- -RCB- -RCB- -RCB- -RCB- -RCB- -RCB- -RCB- -RCB- -RCB- -RCB- -RCB- -RCB- -RCB- &lt; !   \n",
      "3918107                                                           -- TOTAL PRECIPITATION IMPERIAL -- &gt; -RCB- / 2.54 round -RCB- -RCB- -RCB- +1 -RCB- -RCB- -RCB- -RCB- -RCB- -RCB- / 25.4 round -RCB- -RCB- -RCB- +2 -RCB- -RCB- -RCB- -RCB- -RCB- -RCB- -RCB- -RCB- -RCB- -RCB- -RCB- / 2.54 round -RCB- -RCB- -RCB- +1 -RCB- -RCB- -RCB- -RCB- -RCB- -RCB- / 25.4 round -RCB- -RCB- -RCB- +2 -RCB- -RCB- -RCB- -RCB- -RCB- -RCB- -RCB- -RCB- -RCB- -RCB- -RCB- / 2.54 round -RCB- -RCB- -RCB- +1 -RCB- -RCB- -RCB- -RCB- -RCB- -RCB- / 25.4 round -RCB- -RCB- -RCB- +2 -RCB- -RCB- -RCB- -RCB- -RCB- -RCB- -RCB- -RCB- -RCB- -RCB- -RCB- / 2.54 round -RCB- -RCB- -RCB- +1 -RCB- -RCB- -RCB- -RCB- -RCB- -RCB- / 25.4 round -RCB- -RCB- -RCB- +2 -RCB- -RCB- -RCB- -RCB- -RCB- -RCB- -RCB- -RCB- -RCB- -RCB- -RCB- / 2.54 round -RCB- -RCB- -RCB- +1 -RCB- -RCB- -RCB- -RCB- -RCB- -RCB- / 25.4 round -RCB- -RCB- -RCB- +2 -RCB- -RCB- -RCB- -RCB- -RCB- -RCB- -RCB- -RCB- -RCB- -RCB- -RCB- / 2.54 round -RCB- -RCB- -RCB- +1 -RCB- -RCB- -RCB- -RCB- -RCB- -RCB- / 25.4 round -RCB- -RCB- -RCB- +2 -RCB- -RCB- -RCB- -RCB- -RCB- -RCB- -RCB- -RCB- -RCB- -RCB- -RCB- / 2.54 round -RCB- -RCB- -RCB- +1 -RCB- -RCB- -RCB- -RCB- -RCB- -RCB- / 25.4 round -RCB- -RCB- -RCB- +2 -RCB- -RCB- -RCB- -RCB- -RCB- -RCB- -RCB- -RCB- -RCB- -RCB- -RCB- / 2.54 round -RCB- -RCB- -RCB- +1 -RCB- -RCB- -RCB- -RCB- -RCB- -RCB- / 25.4 round -RCB- -RCB- -RCB- +2 -RCB- -RCB- -RCB- -RCB- -RCB- -RCB- -RCB- -RCB- -RCB- -RCB- -RCB- / 2.54 round -RCB- -RCB- -RCB- +1 -RCB- -RCB- -RCB- -RCB- -RCB- -RCB- / 25.4 round -RCB- -RCB- -RCB- +2 -RCB- -RCB- -RCB- -RCB- -RCB- -RCB- -RCB- -RCB- -RCB- -RCB- -RCB- / 2.54 round -RCB- -RCB- -RCB- +1 -RCB- -RCB- -RCB- -RCB- -RCB- -RCB- / 25.4 round -RCB- -RCB- -RCB- +2 -RCB- -RCB- -RCB- -RCB- -RCB- -RCB- -RCB- -RCB- -RCB- -RCB- -RCB- / 2.54 round -RCB- -RCB- -RCB- +1 -RCB- -RCB- -RCB- -RCB- -RCB- -RCB- / 25.4 round -RCB- -RCB- -RCB- +2 -RCB- -RCB- -RCB- -RCB- -RCB- -RCB- -RCB- -RCB- -RCB- -RCB- -RCB- / 2.54 round -RCB- -RCB- -RCB- +1 -RCB- -RCB- -RCB- -RCB- -RCB- -RCB- / 25.4 round -RCB- -RCB- -RCB- +2 -RCB- -RCB- -RCB- -RCB- -RCB- -RCB- -RCB- -RCB- -RCB- -RCB- -RCB- / 2.54 round -RCB- -RCB- -RCB- +1 -RCB- -RCB- -RCB- -RCB- -RCB- -RCB- / 25.4 round -RCB- -RCB- -RCB- +2 -RCB- -RCB- -RCB- -RCB- -RCB- -RCB- + -RCB- -RCB- + -RCB- -RCB- + -RCB- -RCB- + -RCB- -RCB- + -RCB- -RCB- + -RCB- -RCB- + -RCB- -RCB- + -RCB- -RCB- + -RCB- -RCB- + -RCB- -RCB- + -RCB- -RCB- -RCB- -RCB- -RCB- -RCB- + -RCB- -RCB- + -RCB- -RCB- + -RCB- -RCB- + -RCB- -RCB- + -RCB- -RCB- + -RCB- -RCB- + -RCB- -RCB- + -RCB- -RCB- + -RCB- -RCB- + -RCB- -RCB- + -RCB- -RCB- -RRB- / 2.54 round -RCB- -RCB- -RCB- +1 -RCB- -RCB- -RCB- -RCB- -RCB- -RCB- + -RCB- -RCB- + -RCB- -RCB- + -RCB- -RCB- + -RCB- -RCB- + -RCB- -RCB- + -RCB- -RCB- + -RCB- -RCB- + -RCB- -RCB- + -RCB- -RCB- + -RCB- -RCB- + -RCB- -RCB- -RRB- / 25.4 round -RCB- -RCB- -RCB- +2 -RCB- -RCB- -RCB- -RCB- -RCB- -RCB- -RCB- -RCB- -RCB- -RCB- -RCB- -RCB- -RCB- -RCB- -RCB- -RCB- &lt; !   \n",
      "9504300                                                           -- TOTAL PRECIPITATION IMPERIAL -- &gt; -RCB- / 2.54 round -RCB- -RCB- -RCB- +1 -RCB- -RCB- -RCB- -RCB- -RCB- -RCB- / 25.4 round -RCB- -RCB- -RCB- +2 -RCB- -RCB- -RCB- -RCB- -RCB- -RCB- -RCB- -RCB- -RCB- -RCB- -RCB- / 2.54 round -RCB- -RCB- -RCB- +1 -RCB- -RCB- -RCB- -RCB- -RCB- -RCB- / 25.4 round -RCB- -RCB- -RCB- +2 -RCB- -RCB- -RCB- -RCB- -RCB- -RCB- -RCB- -RCB- -RCB- -RCB- -RCB- / 2.54 round -RCB- -RCB- -RCB- +1 -RCB- -RCB- -RCB- -RCB- -RCB- -RCB- / 25.4 round -RCB- -RCB- -RCB- +2 -RCB- -RCB- -RCB- -RCB- -RCB- -RCB- -RCB- -RCB- -RCB- -RCB- -RCB- / 2.54 round -RCB- -RCB- -RCB- +1 -RCB- -RCB- -RCB- -RCB- -RCB- -RCB- / 25.4 round -RCB- -RCB- -RCB- +2 -RCB- -RCB- -RCB- -RCB- -RCB- -RCB- -RCB- -RCB- -RCB- -RCB- -RCB- / 2.54 round -RCB- -RCB- -RCB- +1 -RCB- -RCB- -RCB- -RCB- -RCB- -RCB- / 25.4 round -RCB- -RCB- -RCB- +2 -RCB- -RCB- -RCB- -RCB- -RCB- -RCB- -RCB- -RCB- -RCB- -RCB- -RCB- / 2.54 round -RCB- -RCB- -RCB- +1 -RCB- -RCB- -RCB- -RCB- -RCB- -RCB- / 25.4 round -RCB- -RCB- -RCB- +2 -RCB- -RCB- -RCB- -RCB- -RCB- -RCB- -RCB- -RCB- -RCB- -RCB- -RCB- / 2.54 round -RCB- -RCB- -RCB- +1 -RCB- -RCB- -RCB- -RCB- -RCB- -RCB- / 25.4 round -RCB- -RCB- -RCB- +2 -RCB- -RCB- -RCB- -RCB- -RCB- -RCB- -RCB- -RCB- -RCB- -RCB- -RCB- / 2.54 round -RCB- -RCB- -RCB- +1 -RCB- -RCB- -RCB- -RCB- -RCB- -RCB- / 25.4 round -RCB- -RCB- -RCB- +2 -RCB- -RCB- -RCB- -RCB- -RCB- -RCB- -RCB- -RCB- -RCB- -RCB- -RCB- / 2.54 round -RCB- -RCB- -RCB- +1 -RCB- -RCB- -RCB- -RCB- -RCB- -RCB- / 25.4 round -RCB- -RCB- -RCB- +2 -RCB- -RCB- -RCB- -RCB- -RCB- -RCB- -RCB- -RCB- -RCB- -RCB- -RCB- / 2.54 round -RCB- -RCB- -RCB- +1 -RCB- -RCB- -RCB- -RCB- -RCB- -RCB- / 25.4 round -RCB- -RCB- -RCB- +2 -RCB- -RCB- -RCB- -RCB- -RCB- -RCB- -RCB- -RCB- -RCB- -RCB- -RCB- / 2.54 round -RCB- -RCB- -RCB- +1 -RCB- -RCB- -RCB- -RCB- -RCB- -RCB- / 25.4 round -RCB- -RCB- -RCB- +2 -RCB- -RCB- -RCB- -RCB- -RCB- -RCB- -RCB- -RCB- -RCB- -RCB- -RCB- / 2.54 round -RCB- -RCB- -RCB- +1 -RCB- -RCB- -RCB- -RCB- -RCB- -RCB- / 25.4 round -RCB- -RCB- -RCB- +2 -RCB- -RCB- -RCB- -RCB- -RCB- -RCB- -RCB- -RCB- -RCB- -RCB- -RCB- / 2.54 round -RCB- -RCB- -RCB- +1 -RCB- -RCB- -RCB- -RCB- -RCB- -RCB- / 25.4 round -RCB- -RCB- -RCB- +2 -RCB- -RCB- -RCB- -RCB- -RCB- -RCB- + -RCB- -RCB- + -RCB- -RCB- + -RCB- -RCB- + -RCB- -RCB- + -RCB- -RCB- + -RCB- -RCB- + -RCB- -RCB- + -RCB- -RCB- + -RCB- -RCB- + -RCB- -RCB- + -RCB- -RCB- -RCB- -RCB- -RCB- -RCB- + -RCB- -RCB- + -RCB- -RCB- + -RCB- -RCB- + -RCB- -RCB- + -RCB- -RCB- + -RCB- -RCB- + -RCB- -RCB- + -RCB- -RCB- + -RCB- -RCB- + -RCB- -RCB- + -RCB- -RCB- -RRB- / 2.54 round -RCB- -RCB- -RCB- +1 -RCB- -RCB- -RCB- -RCB- -RCB- -RCB- + -RCB- -RCB- + -RCB- -RCB- + -RCB- -RCB- + -RCB- -RCB- + -RCB- -RCB- + -RCB- -RCB- + -RCB- -RCB- + -RCB- -RCB- + -RCB- -RCB- + -RCB- -RCB- + -RCB- -RCB- -RRB- / 25.4 round -RCB- -RCB- -RCB- +2 -RCB- -RCB- -RCB- -RCB- -RCB- -RCB- -RCB- -RCB- -RCB- -RCB- -RCB- -RCB- -RCB- -RCB- -RCB- -RCB- &lt; !   \n",
      "5720975                                                                    cvt_format = ' -LSB- Convert : % s -RSB- % s ' , -- Each of following messages is a table : -- -LCB- -LSB- 1 -RSB- = ` title ' , -- mouseover title text -- -LSB- 2 -RSB- = ` text ' , -- link text displayed in article -- -LSB- 3 -RSB- = ` category key ' , -- key to lookup category in all_categories -- -LSB- 4 -RSB- = ` anchor ' , -- anchor for link to relevant section on help page -- regex = gsub_regex , -- replace = gsub_table , -- -RCB- Mouseover title text Link text CatKey Anchor cvt_bad_num = -LCB- ` Value '' % s '' must be a number ' , ` Invalid number ' , ` option ' , ` invalid_number ' -RCB- , cvt_big_prec = -LCB- ` Precision '' % s '' is too large ' , ` Precision too large ' , ` option ' , ` precision_too_large ' -RCB- , cvt_invalid_num = -LCB- ` Number has overflowed ' , ` Number overflow ' , ` option ' , ` number_overflow ' -RCB- , cvt_no_num = -LCB- ` Needs the number to be converted ' , ` Needs a number ' , ` option ' , ` needs_number ' -RCB- , cvt_no_num2 = -LCB- ` Needs another number for a range ' , ` Needs another number ' , ` option ' , ` needs_another_number ' -RCB- , cvt_bad_prec = -LCB- ` Precision '' % s '' must be an integer ' , ` Invalid precision ' , ` option ' , ` invalid_precision ' -RCB- , cvt_bad_sigfig = -LCB- ` sigfig '' % s '' must be a positive integer ' , ` Invalid sigfig ' , ` option ' , ` invalid_sigfig ' -RCB- , cvt_empty_option = -LCB- ` Ignored empty option '' % s '' ' , 'Em pty option ' , ` option ' , 'em pty_option ' -RCB- , cvt_no_spell = -LCB- ` Spelling is not available ' , ` Bug , ask for help ' , ` option ' , ` ask_for_help ' -RCB- , cvt_unknown_option = -LCB- ` Ignored invalid option '' % s '' ' , ` Invalid option ' , ` option ' , ` invalid_option ' -RCB- , cvt_bad_default = -LCB- ` Unit '' % s '' has an invalid default ' , ` Bug , ask for help ' , ` unit ' , ` ask_for_help ' -RCB- , cvt_bad_unit = -LCB- ` Unit '' % s '' is invalid here ' , ` Unit invalid here ' , ` unit ' , ` unit_invalid_here ' -RCB- , cvt_no_default = -LCB- ` Unit '' % s '' has no default output unit ' , ` Bug , ask for help ' , ` unit ' , ` ask_for_help ' -RCB- , cvt_no_unit = -LCB- ` Needs name of unit ' , ` Needs unit name ' , ` unit ' , ` needs_unit_name ' -RCB- , cvt_unknown = -LCB- ` Unit name '' % s '' is not known ' , ` Unknown unit ' , ` unit ' , ` unknown_unit ' -RCB- , cvt_should_be = -LCB- ' % s ' , ` Ambiguous unit ' , ` unit ' , ` ambiguous_unit ' , regex = unitcode_regex , replace = unitcode_replace -RCB- , cvt_mismatch = -LCB- ` Can not convert '' % s '' to '' % s '' ' , ` Unit mismatch ' , ` unit ' , ` unit_mismatch ' -RCB- , cvt_bug_convert = -LCB- ` Bug : Can not convert between specified units ' , ` Bug , ask for help ' , ` unit ' , ` ask_for_help ' -RCB- , cvt_lookup = -LCB- ` Unit '' % s '' is incorrectly defined ' , ` Bug , ask for help ' , ` unit ' , ` ask_for_help ' -RCB- , -- Text to join input value/unit with output value/unit .   \n",
      "3060928                                                                    cvt_format = ' -LSB- Convert : % s -RSB- % s ' , -- Each of following messages is a table : -- -LCB- -LSB- 1 -RSB- = ` title ' , -- mouseover title text -- -LSB- 2 -RSB- = ` text ' , -- link text displayed in article -- -LSB- 3 -RSB- = ` category key ' , -- key to lookup category in all_categories -- -LSB- 4 -RSB- = ` anchor ' , -- anchor for link to relevant section on help page -- regex = gsub_regex , -- replace = gsub_table , -- -RCB- Mouseover title text Link text CatKey Anchor cvt_bad_num = -LCB- ` Value '' % s '' must be a number ' , ` Invalid number ' , ` option ' , ` invalid_number ' -RCB- , cvt_big_prec = -LCB- ` Precision '' % s '' is too large ' , ` Precision too large ' , ` option ' , ` precision_too_large ' -RCB- , cvt_invalid_num = -LCB- ` Number has overflowed ' , ` Number overflow ' , ` option ' , ` number_overflow ' -RCB- , cvt_no_num = -LCB- ` Needs the number to be converted ' , ` Needs a number ' , ` option ' , ` needs_number ' -RCB- , cvt_no_num2 = -LCB- ` Needs another number for a range ' , ` Needs another number ' , ` option ' , ` needs_another_number ' -RCB- , cvt_bad_prec = -LCB- ` Precision '' % s '' must be an integer ' , ` Invalid precision ' , ` option ' , ` invalid_precision ' -RCB- , cvt_bad_sigfig = -LCB- ` sigfig '' % s '' must be a positive integer ' , ` Invalid sigfig ' , ` option ' , ` invalid_sigfig ' -RCB- , cvt_empty_option = -LCB- ` Ignored empty option '' % s '' ' , 'Em pty option ' , ` option ' , 'em pty_option ' -RCB- , cvt_no_spell = -LCB- ` Spelling is not available ' , ` Bug , ask for help ' , ` option ' , ` ask_for_help ' -RCB- , cvt_unknown_option = -LCB- ` Ignored invalid option '' % s '' ' , ` Invalid option ' , ` option ' , ` invalid_option ' -RCB- , cvt_bad_default = -LCB- ` Unit '' % s '' has an invalid default ' , ` Bug , ask for help ' , ` unit ' , ` ask_for_help ' -RCB- , cvt_bad_unit = -LCB- ` Unit '' % s '' is invalid here ' , ` Unit invalid here ' , ` unit ' , ` unit_invalid_here ' -RCB- , cvt_no_default = -LCB- ` Unit '' % s '' has no default output unit ' , ` Bug , ask for help ' , ` unit ' , ` ask_for_help ' -RCB- , cvt_no_unit = -LCB- ` Needs name of unit ' , ` Needs unit name ' , ` unit ' , ` needs_unit_name ' -RCB- , cvt_unknown = -LCB- ` Unit name '' % s '' is not known ' , ` Unknown unit ' , ` unit ' , ` unknown_unit ' -RCB- , cvt_should_be = -LCB- ' % s ' , ` Ambiguous unit ' , ` unit ' , ` ambiguous_unit ' , regex = unitcode_regex , replace = unitcode_replace -RCB- , cvt_mismatch = -LCB- ` Can not convert '' % s '' to '' % s '' ' , ` Unit mismatch ' , ` unit ' , ` unit_mismatch ' -RCB- , cvt_bug_convert = -LCB- ` Bug : Can not convert between specified units ' , ` Bug , ask for help ' , ` unit ' , ` ask_for_help ' -RCB- , cvt_lookup = -LCB- ` Unit '' % s '' is incorrectly defined ' , ` Bug , ask for help ' , ` unit ' , ` ask_for_help ' -RCB- , -- Text to join input value/unit with output value/unit .   \n",
      "1353541                                                                      -- SNOWFALL IMPERIAL -- &gt; -RCB- / 25.4 round -RCB- -RCB- -RCB- +2 -RCB- -RCB- -RCB- -RCB- -RCB- -RCB- / 2.54 round -RCB- -RCB- -RCB- +1 -RCB- -RCB- -RCB- -RCB- -RCB- -RCB- -RCB- -RCB- -RCB- -RCB- -RCB- / 25.4 round -RCB- -RCB- -RCB- +2 -RCB- -RCB- -RCB- -RCB- -RCB- -RCB- / 2.54 round -RCB- -RCB- -RCB- +1 -RCB- -RCB- -RCB- -RCB- -RCB- -RCB- -RCB- -RCB- -RCB- -RCB- -RCB- / 25.4 round -RCB- -RCB- -RCB- +2 -RCB- -RCB- -RCB- -RCB- -RCB- -RCB- / 2.54 round -RCB- -RCB- -RCB- +1 -RCB- -RCB- -RCB- -RCB- -RCB- -RCB- -RCB- -RCB- -RCB- -RCB- -RCB- / 25.4 round -RCB- -RCB- -RCB- +2 -RCB- -RCB- -RCB- -RCB- -RCB- -RCB- / 2.54 round -RCB- -RCB- -RCB- +1 -RCB- -RCB- -RCB- -RCB- -RCB- -RCB- -RCB- -RCB- -RCB- -RCB- -RCB- / 25.4 round -RCB- -RCB- -RCB- +2 -RCB- -RCB- -RCB- -RCB- -RCB- -RCB- / 2.54 round -RCB- -RCB- -RCB- +1 -RCB- -RCB- -RCB- -RCB- -RCB- -RCB- -RCB- -RCB- -RCB- -RCB- -RCB- / 25.4 round -RCB- -RCB- -RCB- +2 -RCB- -RCB- -RCB- -RCB- -RCB- -RCB- / 2.54 round -RCB- -RCB- -RCB- +1 -RCB- -RCB- -RCB- -RCB- -RCB- -RCB- -RCB- -RCB- -RCB- -RCB- -RCB- / 25.4 round -RCB- -RCB- -RCB- +2 -RCB- -RCB- -RCB- -RCB- -RCB- -RCB- / 2.54 round -RCB- -RCB- -RCB- +1 -RCB- -RCB- -RCB- -RCB- -RCB- -RCB- -RCB- -RCB- -RCB- -RCB- -RCB- / 25.4 round -RCB- -RCB- -RCB- +2 -RCB- -RCB- -RCB- -RCB- -RCB- -RCB- / 2.54 round -RCB- -RCB- -RCB- +1 -RCB- -RCB- -RCB- -RCB- -RCB- -RCB- -RCB- -RCB- -RCB- -RCB- -RCB- / 25.4 round -RCB- -RCB- -RCB- +2 -RCB- -RCB- -RCB- -RCB- -RCB- -RCB- / 2.54 round -RCB- -RCB- -RCB- +1 -RCB- -RCB- -RCB- -RCB- -RCB- -RCB- -RCB- -RCB- -RCB- -RCB- -RCB- / 25.4 round -RCB- -RCB- -RCB- +2 -RCB- -RCB- -RCB- -RCB- -RCB- -RCB- / 2.54 round -RCB- -RCB- -RCB- +1 -RCB- -RCB- -RCB- -RCB- -RCB- -RCB- -RCB- -RCB- -RCB- -RCB- -RCB- / 25.4 round -RCB- -RCB- -RCB- +2 -RCB- -RCB- -RCB- -RCB- -RCB- -RCB- / 2.54 round -RCB- -RCB- -RCB- +1 -RCB- -RCB- -RCB- -RCB- -RCB- -RCB- -RCB- -RCB- -RCB- -RCB- -RCB- / 25.4 round -RCB- -RCB- -RCB- +2 -RCB- -RCB- -RCB- -RCB- -RCB- -RCB- / 2.54 round -RCB- -RCB- -RCB- +1 -RCB- -RCB- -RCB- -RCB- -RCB- -RCB- -RCB- -RCB- -RCB- -RCB- -RCB- / 25.4 round -RCB- -RCB- -RCB- +2 -RCB- -RCB- -RCB- -RCB- -RCB- -RCB- / 2.54 round -RCB- -RCB- -RCB- +1 -RCB- -RCB- -RCB- -RCB- -RCB- -RCB- + -RCB- -RCB- + -RCB- -RCB- + -RCB- -RCB- + -RCB- -RCB- + -RCB- -RCB- + -RCB- -RCB- + -RCB- -RCB- + -RCB- -RCB- + -RCB- -RCB- + -RCB- -RCB- + -RCB- -RCB- -RCB- -RCB- -RCB- -RCB- + -RCB- -RCB- + -RCB- -RCB- + -RCB- -RCB- + -RCB- -RCB- + -RCB- -RCB- + -RCB- -RCB- + -RCB- -RCB- + -RCB- -RCB- + -RCB- -RCB- + -RCB- -RCB- + -RCB- -RCB- -RRB- / 25.4 round -RCB- -RCB- -RCB- +2 -RCB- -RCB- -RCB- -RCB- -RCB- -RCB- + -RCB- -RCB- + -RCB- -RCB- + -RCB- -RCB- + -RCB- -RCB- + -RCB- -RCB- + -RCB- -RCB- + -RCB- -RCB- + -RCB- -RCB- + -RCB- -RCB- + -RCB- -RCB- + -RCB- -RCB- -RRB- / 2.54 round -RCB- -RCB- -RCB- +1 -RCB- -RCB- -RCB- -RCB- -RCB- -RCB- -RCB- -RCB- -RCB- -RCB- -RCB- -RCB- -RCB- -RCB- -RCB- -RCB- &lt; !   \n",
      "10629495                                                                     -- SNOWFALL IMPERIAL -- &gt; -RCB- / 25.4 round -RCB- -RCB- -RCB- +2 -RCB- -RCB- -RCB- -RCB- -RCB- -RCB- / 2.54 round -RCB- -RCB- -RCB- +1 -RCB- -RCB- -RCB- -RCB- -RCB- -RCB- -RCB- -RCB- -RCB- -RCB- -RCB- / 25.4 round -RCB- -RCB- -RCB- +2 -RCB- -RCB- -RCB- -RCB- -RCB- -RCB- / 2.54 round -RCB- -RCB- -RCB- +1 -RCB- -RCB- -RCB- -RCB- -RCB- -RCB- -RCB- -RCB- -RCB- -RCB- -RCB- / 25.4 round -RCB- -RCB- -RCB- +2 -RCB- -RCB- -RCB- -RCB- -RCB- -RCB- / 2.54 round -RCB- -RCB- -RCB- +1 -RCB- -RCB- -RCB- -RCB- -RCB- -RCB- -RCB- -RCB- -RCB- -RCB- -RCB- / 25.4 round -RCB- -RCB- -RCB- +2 -RCB- -RCB- -RCB- -RCB- -RCB- -RCB- / 2.54 round -RCB- -RCB- -RCB- +1 -RCB- -RCB- -RCB- -RCB- -RCB- -RCB- -RCB- -RCB- -RCB- -RCB- -RCB- / 25.4 round -RCB- -RCB- -RCB- +2 -RCB- -RCB- -RCB- -RCB- -RCB- -RCB- / 2.54 round -RCB- -RCB- -RCB- +1 -RCB- -RCB- -RCB- -RCB- -RCB- -RCB- -RCB- -RCB- -RCB- -RCB- -RCB- / 25.4 round -RCB- -RCB- -RCB- +2 -RCB- -RCB- -RCB- -RCB- -RCB- -RCB- / 2.54 round -RCB- -RCB- -RCB- +1 -RCB- -RCB- -RCB- -RCB- -RCB- -RCB- -RCB- -RCB- -RCB- -RCB- -RCB- / 25.4 round -RCB- -RCB- -RCB- +2 -RCB- -RCB- -RCB- -RCB- -RCB- -RCB- / 2.54 round -RCB- -RCB- -RCB- +1 -RCB- -RCB- -RCB- -RCB- -RCB- -RCB- -RCB- -RCB- -RCB- -RCB- -RCB- / 25.4 round -RCB- -RCB- -RCB- +2 -RCB- -RCB- -RCB- -RCB- -RCB- -RCB- / 2.54 round -RCB- -RCB- -RCB- +1 -RCB- -RCB- -RCB- -RCB- -RCB- -RCB- -RCB- -RCB- -RCB- -RCB- -RCB- / 25.4 round -RCB- -RCB- -RCB- +2 -RCB- -RCB- -RCB- -RCB- -RCB- -RCB- / 2.54 round -RCB- -RCB- -RCB- +1 -RCB- -RCB- -RCB- -RCB- -RCB- -RCB- -RCB- -RCB- -RCB- -RCB- -RCB- / 25.4 round -RCB- -RCB- -RCB- +2 -RCB- -RCB- -RCB- -RCB- -RCB- -RCB- / 2.54 round -RCB- -RCB- -RCB- +1 -RCB- -RCB- -RCB- -RCB- -RCB- -RCB- -RCB- -RCB- -RCB- -RCB- -RCB- / 25.4 round -RCB- -RCB- -RCB- +2 -RCB- -RCB- -RCB- -RCB- -RCB- -RCB- / 2.54 round -RCB- -RCB- -RCB- +1 -RCB- -RCB- -RCB- -RCB- -RCB- -RCB- -RCB- -RCB- -RCB- -RCB- -RCB- / 25.4 round -RCB- -RCB- -RCB- +2 -RCB- -RCB- -RCB- -RCB- -RCB- -RCB- / 2.54 round -RCB- -RCB- -RCB- +1 -RCB- -RCB- -RCB- -RCB- -RCB- -RCB- -RCB- -RCB- -RCB- -RCB- -RCB- / 25.4 round -RCB- -RCB- -RCB- +2 -RCB- -RCB- -RCB- -RCB- -RCB- -RCB- / 2.54 round -RCB- -RCB- -RCB- +1 -RCB- -RCB- -RCB- -RCB- -RCB- -RCB- + -RCB- -RCB- + -RCB- -RCB- + -RCB- -RCB- + -RCB- -RCB- + -RCB- -RCB- + -RCB- -RCB- + -RCB- -RCB- + -RCB- -RCB- + -RCB- -RCB- + -RCB- -RCB- + -RCB- -RCB- -RCB- -RCB- -RCB- -RCB- + -RCB- -RCB- + -RCB- -RCB- + -RCB- -RCB- + -RCB- -RCB- + -RCB- -RCB- + -RCB- -RCB- + -RCB- -RCB- + -RCB- -RCB- + -RCB- -RCB- + -RCB- -RCB- + -RCB- -RCB- -RRB- / 25.4 round -RCB- -RCB- -RCB- +2 -RCB- -RCB- -RCB- -RCB- -RCB- -RCB- + -RCB- -RCB- + -RCB- -RCB- + -RCB- -RCB- + -RCB- -RCB- + -RCB- -RCB- + -RCB- -RCB- + -RCB- -RCB- + -RCB- -RCB- + -RCB- -RCB- + -RCB- -RCB- + -RCB- -RCB- -RRB- / 2.54 round -RCB- -RCB- -RCB- +1 -RCB- -RCB- -RCB- -RCB- -RCB- -RCB- -RCB- -RCB- -RCB- -RCB- -RCB- -RCB- -RCB- -RCB- -RCB- -RCB- &lt; !   \n",
      "4280737                                                                      -- RAINFALL IMPERIAL -- &gt; -RCB- / 2.54 round -RCB- -RCB- -RCB- +1 -RCB- -RCB- -RCB- -RCB- -RCB- -RCB- / 25.4 round -RCB- -RCB- -RCB- +2 -RCB- -RCB- -RCB- -RCB- -RCB- -RCB- -RCB- -RCB- -RCB- -RCB- -RCB- / 2.54 round -RCB- -RCB- -RCB- +1 -RCB- -RCB- -RCB- -RCB- -RCB- -RCB- / 25.4 round -RCB- -RCB- -RCB- +2 -RCB- -RCB- -RCB- -RCB- -RCB- -RCB- -RCB- -RCB- -RCB- -RCB- -RCB- / 2.54 round -RCB- -RCB- -RCB- +1 -RCB- -RCB- -RCB- -RCB- -RCB- -RCB- / 25.4 round -RCB- -RCB- -RCB- +2 -RCB- -RCB- -RCB- -RCB- -RCB- -RCB- -RCB- -RCB- -RCB- -RCB- -RCB- / 2.54 round -RCB- -RCB- -RCB- +1 -RCB- -RCB- -RCB- -RCB- -RCB- -RCB- / 25.4 round -RCB- -RCB- -RCB- +2 -RCB- -RCB- -RCB- -RCB- -RCB- -RCB- -RCB- -RCB- -RCB- -RCB- -RCB- / 2.54 round -RCB- -RCB- -RCB- +1 -RCB- -RCB- -RCB- -RCB- -RCB- -RCB- / 25.4 round -RCB- -RCB- -RCB- +2 -RCB- -RCB- -RCB- -RCB- -RCB- -RCB- -RCB- -RCB- -RCB- -RCB- -RCB- / 2.54 round -RCB- -RCB- -RCB- +1 -RCB- -RCB- -RCB- -RCB- -RCB- -RCB- / 25.4 round -RCB- -RCB- -RCB- +2 -RCB- -RCB- -RCB- -RCB- -RCB- -RCB- -RCB- -RCB- -RCB- -RCB- -RCB- / 2.54 round -RCB- -RCB- -RCB- +1 -RCB- -RCB- -RCB- -RCB- -RCB- -RCB- / 25.4 round -RCB- -RCB- -RCB- +2 -RCB- -RCB- -RCB- -RCB- -RCB- -RCB- -RCB- -RCB- -RCB- -RCB- -RCB- / 2.54 round -RCB- -RCB- -RCB- +1 -RCB- -RCB- -RCB- -RCB- -RCB- -RCB- / 25.4 round -RCB- -RCB- -RCB- +2 -RCB- -RCB- -RCB- -RCB- -RCB- -RCB- -RCB- -RCB- -RCB- -RCB- -RCB- / 2.54 round -RCB- -RCB- -RCB- +1 -RCB- -RCB- -RCB- -RCB- -RCB- -RCB- / 25.4 round -RCB- -RCB- -RCB- +2 -RCB- -RCB- -RCB- -RCB- -RCB- -RCB- -RCB- -RCB- -RCB- -RCB- -RCB- / 2.54 round -RCB- -RCB- -RCB- +1 -RCB- -RCB- -RCB- -RCB- -RCB- -RCB- / 25.4 round -RCB- -RCB- -RCB- +2 -RCB- -RCB- -RCB- -RCB- -RCB- -RCB- -RCB- -RCB- -RCB- -RCB- -RCB- / 2.54 round -RCB- -RCB- -RCB- +1 -RCB- -RCB- -RCB- -RCB- -RCB- -RCB- / 25.4 round -RCB- -RCB- -RCB- +2 -RCB- -RCB- -RCB- -RCB- -RCB- -RCB- -RCB- -RCB- -RCB- -RCB- -RCB- / 2.54 round -RCB- -RCB- -RCB- +1 -RCB- -RCB- -RCB- -RCB- -RCB- -RCB- / 25.4 round -RCB- -RCB- -RCB- +2 -RCB- -RCB- -RCB- -RCB- -RCB- -RCB- -RCB- -RCB- -RCB- -RCB- -RCB- / 2.54 round -RCB- -RCB- -RCB- +1 -RCB- -RCB- -RCB- -RCB- -RCB- -RCB- / 25.4 round -RCB- -RCB- -RCB- +2 -RCB- -RCB- -RCB- -RCB- -RCB- -RCB- + -RCB- -RCB- + -RCB- -RCB- + -RCB- -RCB- + -RCB- -RCB- + -RCB- -RCB- + -RCB- -RCB- + -RCB- -RCB- + -RCB- -RCB- + -RCB- -RCB- + -RCB- -RCB- + -RCB- -RCB- -RCB- -RCB- -RCB- -RCB- + -RCB- -RCB- + -RCB- -RCB- + -RCB- -RCB- + -RCB- -RCB- + -RCB- -RCB- + -RCB- -RCB- + -RCB- -RCB- + -RCB- -RCB- + -RCB- -RCB- + -RCB- -RCB- + -RCB- -RCB- -RRB- / 2.54 round -RCB- -RCB- -RCB- +1 -RCB- -RCB- -RCB- -RCB- -RCB- -RCB- + -RCB- -RCB- + -RCB- -RCB- + -RCB- -RCB- + -RCB- -RCB- + -RCB- -RCB- + -RCB- -RCB- + -RCB- -RCB- + -RCB- -RCB- + -RCB- -RCB- + -RCB- -RCB- + -RCB- -RCB- -RRB- / 25.4 round -RCB- -RCB- -RCB- +2 -RCB- -RCB- -RCB- -RCB- -RCB- -RCB- -RCB- -RCB- -RCB- -RCB- -RCB- -RCB- -RCB- -RCB- -RCB- -RCB- &lt; !   \n",
      "2540813                                                                      -- RAINFALL IMPERIAL -- &gt; -RCB- / 2.54 round -RCB- -RCB- -RCB- +1 -RCB- -RCB- -RCB- -RCB- -RCB- -RCB- / 25.4 round -RCB- -RCB- -RCB- +2 -RCB- -RCB- -RCB- -RCB- -RCB- -RCB- -RCB- -RCB- -RCB- -RCB- -RCB- / 2.54 round -RCB- -RCB- -RCB- +1 -RCB- -RCB- -RCB- -RCB- -RCB- -RCB- / 25.4 round -RCB- -RCB- -RCB- +2 -RCB- -RCB- -RCB- -RCB- -RCB- -RCB- -RCB- -RCB- -RCB- -RCB- -RCB- / 2.54 round -RCB- -RCB- -RCB- +1 -RCB- -RCB- -RCB- -RCB- -RCB- -RCB- / 25.4 round -RCB- -RCB- -RCB- +2 -RCB- -RCB- -RCB- -RCB- -RCB- -RCB- -RCB- -RCB- -RCB- -RCB- -RCB- / 2.54 round -RCB- -RCB- -RCB- +1 -RCB- -RCB- -RCB- -RCB- -RCB- -RCB- / 25.4 round -RCB- -RCB- -RCB- +2 -RCB- -RCB- -RCB- -RCB- -RCB- -RCB- -RCB- -RCB- -RCB- -RCB- -RCB- / 2.54 round -RCB- -RCB- -RCB- +1 -RCB- -RCB- -RCB- -RCB- -RCB- -RCB- / 25.4 round -RCB- -RCB- -RCB- +2 -RCB- -RCB- -RCB- -RCB- -RCB- -RCB- -RCB- -RCB- -RCB- -RCB- -RCB- / 2.54 round -RCB- -RCB- -RCB- +1 -RCB- -RCB- -RCB- -RCB- -RCB- -RCB- / 25.4 round -RCB- -RCB- -RCB- +2 -RCB- -RCB- -RCB- -RCB- -RCB- -RCB- -RCB- -RCB- -RCB- -RCB- -RCB- / 2.54 round -RCB- -RCB- -RCB- +1 -RCB- -RCB- -RCB- -RCB- -RCB- -RCB- / 25.4 round -RCB- -RCB- -RCB- +2 -RCB- -RCB- -RCB- -RCB- -RCB- -RCB- -RCB- -RCB- -RCB- -RCB- -RCB- / 2.54 round -RCB- -RCB- -RCB- +1 -RCB- -RCB- -RCB- -RCB- -RCB- -RCB- / 25.4 round -RCB- -RCB- -RCB- +2 -RCB- -RCB- -RCB- -RCB- -RCB- -RCB- -RCB- -RCB- -RCB- -RCB- -RCB- / 2.54 round -RCB- -RCB- -RCB- +1 -RCB- -RCB- -RCB- -RCB- -RCB- -RCB- / 25.4 round -RCB- -RCB- -RCB- +2 -RCB- -RCB- -RCB- -RCB- -RCB- -RCB- -RCB- -RCB- -RCB- -RCB- -RCB- / 2.54 round -RCB- -RCB- -RCB- +1 -RCB- -RCB- -RCB- -RCB- -RCB- -RCB- / 25.4 round -RCB- -RCB- -RCB- +2 -RCB- -RCB- -RCB- -RCB- -RCB- -RCB- -RCB- -RCB- -RCB- -RCB- -RCB- / 2.54 round -RCB- -RCB- -RCB- +1 -RCB- -RCB- -RCB- -RCB- -RCB- -RCB- / 25.4 round -RCB- -RCB- -RCB- +2 -RCB- -RCB- -RCB- -RCB- -RCB- -RCB- -RCB- -RCB- -RCB- -RCB- -RCB- / 2.54 round -RCB- -RCB- -RCB- +1 -RCB- -RCB- -RCB- -RCB- -RCB- -RCB- / 25.4 round -RCB- -RCB- -RCB- +2 -RCB- -RCB- -RCB- -RCB- -RCB- -RCB- -RCB- -RCB- -RCB- -RCB- -RCB- / 2.54 round -RCB- -RCB- -RCB- +1 -RCB- -RCB- -RCB- -RCB- -RCB- -RCB- / 25.4 round -RCB- -RCB- -RCB- +2 -RCB- -RCB- -RCB- -RCB- -RCB- -RCB- + -RCB- -RCB- + -RCB- -RCB- + -RCB- -RCB- + -RCB- -RCB- + -RCB- -RCB- + -RCB- -RCB- + -RCB- -RCB- + -RCB- -RCB- + -RCB- -RCB- + -RCB- -RCB- + -RCB- -RCB- -RCB- -RCB- -RCB- -RCB- + -RCB- -RCB- + -RCB- -RCB- + -RCB- -RCB- + -RCB- -RCB- + -RCB- -RCB- + -RCB- -RCB- + -RCB- -RCB- + -RCB- -RCB- + -RCB- -RCB- + -RCB- -RCB- + -RCB- -RCB- -RRB- / 2.54 round -RCB- -RCB- -RCB- +1 -RCB- -RCB- -RCB- -RCB- -RCB- -RCB- + -RCB- -RCB- + -RCB- -RCB- + -RCB- -RCB- + -RCB- -RCB- + -RCB- -RCB- + -RCB- -RCB- + -RCB- -RCB- + -RCB- -RCB- + -RCB- -RCB- + -RCB- -RCB- + -RCB- -RCB- -RRB- / 25.4 round -RCB- -RCB- -RCB- +2 -RCB- -RCB- -RCB- -RCB- -RCB- -RCB- -RCB- -RCB- -RCB- -RCB- -RCB- -RCB- -RCB- -RCB- -RCB- -RCB- &lt; !   \n",
      "7227385                                                                      -- RAINFALL IMPERIAL -- &gt; -RCB- / 2.54 round -RCB- -RCB- -RCB- +1 -RCB- -RCB- -RCB- -RCB- -RCB- -RCB- / 25.4 round -RCB- -RCB- -RCB- +2 -RCB- -RCB- -RCB- -RCB- -RCB- -RCB- -RCB- -RCB- -RCB- -RCB- -RCB- / 2.54 round -RCB- -RCB- -RCB- +1 -RCB- -RCB- -RCB- -RCB- -RCB- -RCB- / 25.4 round -RCB- -RCB- -RCB- +2 -RCB- -RCB- -RCB- -RCB- -RCB- -RCB- -RCB- -RCB- -RCB- -RCB- -RCB- / 2.54 round -RCB- -RCB- -RCB- +1 -RCB- -RCB- -RCB- -RCB- -RCB- -RCB- / 25.4 round -RCB- -RCB- -RCB- +2 -RCB- -RCB- -RCB- -RCB- -RCB- -RCB- -RCB- -RCB- -RCB- -RCB- -RCB- / 2.54 round -RCB- -RCB- -RCB- +1 -RCB- -RCB- -RCB- -RCB- -RCB- -RCB- / 25.4 round -RCB- -RCB- -RCB- +2 -RCB- -RCB- -RCB- -RCB- -RCB- -RCB- -RCB- -RCB- -RCB- -RCB- -RCB- / 2.54 round -RCB- -RCB- -RCB- +1 -RCB- -RCB- -RCB- -RCB- -RCB- -RCB- / 25.4 round -RCB- -RCB- -RCB- +2 -RCB- -RCB- -RCB- -RCB- -RCB- -RCB- -RCB- -RCB- -RCB- -RCB- -RCB- / 2.54 round -RCB- -RCB- -RCB- +1 -RCB- -RCB- -RCB- -RCB- -RCB- -RCB- / 25.4 round -RCB- -RCB- -RCB- +2 -RCB- -RCB- -RCB- -RCB- -RCB- -RCB- -RCB- -RCB- -RCB- -RCB- -RCB- / 2.54 round -RCB- -RCB- -RCB- +1 -RCB- -RCB- -RCB- -RCB- -RCB- -RCB- / 25.4 round -RCB- -RCB- -RCB- +2 -RCB- -RCB- -RCB- -RCB- -RCB- -RCB- -RCB- -RCB- -RCB- -RCB- -RCB- / 2.54 round -RCB- -RCB- -RCB- +1 -RCB- -RCB- -RCB- -RCB- -RCB- -RCB- / 25.4 round -RCB- -RCB- -RCB- +2 -RCB- -RCB- -RCB- -RCB- -RCB- -RCB- -RCB- -RCB- -RCB- -RCB- -RCB- / 2.54 round -RCB- -RCB- -RCB- +1 -RCB- -RCB- -RCB- -RCB- -RCB- -RCB- / 25.4 round -RCB- -RCB- -RCB- +2 -RCB- -RCB- -RCB- -RCB- -RCB- -RCB- -RCB- -RCB- -RCB- -RCB- -RCB- / 2.54 round -RCB- -RCB- -RCB- +1 -RCB- -RCB- -RCB- -RCB- -RCB- -RCB- / 25.4 round -RCB- -RCB- -RCB- +2 -RCB- -RCB- -RCB- -RCB- -RCB- -RCB- -RCB- -RCB- -RCB- -RCB- -RCB- / 2.54 round -RCB- -RCB- -RCB- +1 -RCB- -RCB- -RCB- -RCB- -RCB- -RCB- / 25.4 round -RCB- -RCB- -RCB- +2 -RCB- -RCB- -RCB- -RCB- -RCB- -RCB- -RCB- -RCB- -RCB- -RCB- -RCB- / 2.54 round -RCB- -RCB- -RCB- +1 -RCB- -RCB- -RCB- -RCB- -RCB- -RCB- / 25.4 round -RCB- -RCB- -RCB- +2 -RCB- -RCB- -RCB- -RCB- -RCB- -RCB- -RCB- -RCB- -RCB- -RCB- -RCB- / 2.54 round -RCB- -RCB- -RCB- +1 -RCB- -RCB- -RCB- -RCB- -RCB- -RCB- / 25.4 round -RCB- -RCB- -RCB- +2 -RCB- -RCB- -RCB- -RCB- -RCB- -RCB- + -RCB- -RCB- + -RCB- -RCB- + -RCB- -RCB- + -RCB- -RCB- + -RCB- -RCB- + -RCB- -RCB- + -RCB- -RCB- + -RCB- -RCB- + -RCB- -RCB- + -RCB- -RCB- + -RCB- -RCB- -RCB- -RCB- -RCB- -RCB- + -RCB- -RCB- + -RCB- -RCB- + -RCB- -RCB- + -RCB- -RCB- + -RCB- -RCB- + -RCB- -RCB- + -RCB- -RCB- + -RCB- -RCB- + -RCB- -RCB- + -RCB- -RCB- + -RCB- -RCB- -RRB- / 2.54 round -RCB- -RCB- -RCB- +1 -RCB- -RCB- -RCB- -RCB- -RCB- -RCB- + -RCB- -RCB- + -RCB- -RCB- + -RCB- -RCB- + -RCB- -RCB- + -RCB- -RCB- + -RCB- -RCB- + -RCB- -RCB- + -RCB- -RCB- + -RCB- -RCB- + -RCB- -RCB- + -RCB- -RCB- -RRB- / 25.4 round -RCB- -RCB- -RCB- +2 -RCB- -RCB- -RCB- -RCB- -RCB- -RCB- -RCB- -RCB- -RCB- -RCB- -RCB- -RCB- -RCB- -RCB- -RCB- -RCB- &lt; !   \n",
      "7236694                                                                      -- RAINFALL IMPERIAL -- &gt; -RCB- / 2.54 round -RCB- -RCB- -RCB- +1 -RCB- -RCB- -RCB- -RCB- -RCB- -RCB- / 25.4 round -RCB- -RCB- -RCB- +2 -RCB- -RCB- -RCB- -RCB- -RCB- -RCB- -RCB- -RCB- -RCB- -RCB- -RCB- / 2.54 round -RCB- -RCB- -RCB- +1 -RCB- -RCB- -RCB- -RCB- -RCB- -RCB- / 25.4 round -RCB- -RCB- -RCB- +2 -RCB- -RCB- -RCB- -RCB- -RCB- -RCB- -RCB- -RCB- -RCB- -RCB- -RCB- / 2.54 round -RCB- -RCB- -RCB- +1 -RCB- -RCB- -RCB- -RCB- -RCB- -RCB- / 25.4 round -RCB- -RCB- -RCB- +2 -RCB- -RCB- -RCB- -RCB- -RCB- -RCB- -RCB- -RCB- -RCB- -RCB- -RCB- / 2.54 round -RCB- -RCB- -RCB- +1 -RCB- -RCB- -RCB- -RCB- -RCB- -RCB- / 25.4 round -RCB- -RCB- -RCB- +2 -RCB- -RCB- -RCB- -RCB- -RCB- -RCB- -RCB- -RCB- -RCB- -RCB- -RCB- / 2.54 round -RCB- -RCB- -RCB- +1 -RCB- -RCB- -RCB- -RCB- -RCB- -RCB- / 25.4 round -RCB- -RCB- -RCB- +2 -RCB- -RCB- -RCB- -RCB- -RCB- -RCB- -RCB- -RCB- -RCB- -RCB- -RCB- / 2.54 round -RCB- -RCB- -RCB- +1 -RCB- -RCB- -RCB- -RCB- -RCB- -RCB- / 25.4 round -RCB- -RCB- -RCB- +2 -RCB- -RCB- -RCB- -RCB- -RCB- -RCB- -RCB- -RCB- -RCB- -RCB- -RCB- / 2.54 round -RCB- -RCB- -RCB- +1 -RCB- -RCB- -RCB- -RCB- -RCB- -RCB- / 25.4 round -RCB- -RCB- -RCB- +2 -RCB- -RCB- -RCB- -RCB- -RCB- -RCB- -RCB- -RCB- -RCB- -RCB- -RCB- / 2.54 round -RCB- -RCB- -RCB- +1 -RCB- -RCB- -RCB- -RCB- -RCB- -RCB- / 25.4 round -RCB- -RCB- -RCB- +2 -RCB- -RCB- -RCB- -RCB- -RCB- -RCB- -RCB- -RCB- -RCB- -RCB- -RCB- / 2.54 round -RCB- -RCB- -RCB- +1 -RCB- -RCB- -RCB- -RCB- -RCB- -RCB- / 25.4 round -RCB- -RCB- -RCB- +2 -RCB- -RCB- -RCB- -RCB- -RCB- -RCB- -RCB- -RCB- -RCB- -RCB- -RCB- / 2.54 round -RCB- -RCB- -RCB- +1 -RCB- -RCB- -RCB- -RCB- -RCB- -RCB- / 25.4 round -RCB- -RCB- -RCB- +2 -RCB- -RCB- -RCB- -RCB- -RCB- -RCB- -RCB- -RCB- -RCB- -RCB- -RCB- / 2.54 round -RCB- -RCB- -RCB- +1 -RCB- -RCB- -RCB- -RCB- -RCB- -RCB- / 25.4 round -RCB- -RCB- -RCB- +2 -RCB- -RCB- -RCB- -RCB- -RCB- -RCB- -RCB- -RCB- -RCB- -RCB- -RCB- / 2.54 round -RCB- -RCB- -RCB- +1 -RCB- -RCB- -RCB- -RCB- -RCB- -RCB- / 25.4 round -RCB- -RCB- -RCB- +2 -RCB- -RCB- -RCB- -RCB- -RCB- -RCB- -RCB- -RCB- -RCB- -RCB- -RCB- / 2.54 round -RCB- -RCB- -RCB- +1 -RCB- -RCB- -RCB- -RCB- -RCB- -RCB- / 25.4 round -RCB- -RCB- -RCB- +2 -RCB- -RCB- -RCB- -RCB- -RCB- -RCB- + -RCB- -RCB- + -RCB- -RCB- + -RCB- -RCB- + -RCB- -RCB- + -RCB- -RCB- + -RCB- -RCB- + -RCB- -RCB- + -RCB- -RCB- + -RCB- -RCB- + -RCB- -RCB- + -RCB- -RCB- -RCB- -RCB- -RCB- -RCB- + -RCB- -RCB- + -RCB- -RCB- + -RCB- -RCB- + -RCB- -RCB- + -RCB- -RCB- + -RCB- -RCB- + -RCB- -RCB- + -RCB- -RCB- + -RCB- -RCB- + -RCB- -RCB- + -RCB- -RCB- -RRB- / 2.54 round -RCB- -RCB- -RCB- +1 -RCB- -RCB- -RCB- -RCB- -RCB- -RCB- + -RCB- -RCB- + -RCB- -RCB- + -RCB- -RCB- + -RCB- -RCB- + -RCB- -RCB- + -RCB- -RCB- + -RCB- -RCB- + -RCB- -RCB- + -RCB- -RCB- + -RCB- -RCB- + -RCB- -RCB- -RRB- / 25.4 round -RCB- -RCB- -RCB- +2 -RCB- -RCB- -RCB- -RCB- -RCB- -RCB- -RCB- -RCB- -RCB- -RCB- -RCB- -RCB- -RCB- -RCB- -RCB- -RCB- &lt; !   \n",
      "11492483                                                                     -- RAINFALL IMPERIAL -- &gt; -RCB- / 2.54 round -RCB- -RCB- -RCB- +1 -RCB- -RCB- -RCB- -RCB- -RCB- -RCB- / 25.4 round -RCB- -RCB- -RCB- +2 -RCB- -RCB- -RCB- -RCB- -RCB- -RCB- -RCB- -RCB- -RCB- -RCB- -RCB- / 2.54 round -RCB- -RCB- -RCB- +1 -RCB- -RCB- -RCB- -RCB- -RCB- -RCB- / 25.4 round -RCB- -RCB- -RCB- +2 -RCB- -RCB- -RCB- -RCB- -RCB- -RCB- -RCB- -RCB- -RCB- -RCB- -RCB- / 2.54 round -RCB- -RCB- -RCB- +1 -RCB- -RCB- -RCB- -RCB- -RCB- -RCB- / 25.4 round -RCB- -RCB- -RCB- +2 -RCB- -RCB- -RCB- -RCB- -RCB- -RCB- -RCB- -RCB- -RCB- -RCB- -RCB- / 2.54 round -RCB- -RCB- -RCB- +1 -RCB- -RCB- -RCB- -RCB- -RCB- -RCB- / 25.4 round -RCB- -RCB- -RCB- +2 -RCB- -RCB- -RCB- -RCB- -RCB- -RCB- -RCB- -RCB- -RCB- -RCB- -RCB- / 2.54 round -RCB- -RCB- -RCB- +1 -RCB- -RCB- -RCB- -RCB- -RCB- -RCB- / 25.4 round -RCB- -RCB- -RCB- +2 -RCB- -RCB- -RCB- -RCB- -RCB- -RCB- -RCB- -RCB- -RCB- -RCB- -RCB- / 2.54 round -RCB- -RCB- -RCB- +1 -RCB- -RCB- -RCB- -RCB- -RCB- -RCB- / 25.4 round -RCB- -RCB- -RCB- +2 -RCB- -RCB- -RCB- -RCB- -RCB- -RCB- -RCB- -RCB- -RCB- -RCB- -RCB- / 2.54 round -RCB- -RCB- -RCB- +1 -RCB- -RCB- -RCB- -RCB- -RCB- -RCB- / 25.4 round -RCB- -RCB- -RCB- +2 -RCB- -RCB- -RCB- -RCB- -RCB- -RCB- -RCB- -RCB- -RCB- -RCB- -RCB- / 2.54 round -RCB- -RCB- -RCB- +1 -RCB- -RCB- -RCB- -RCB- -RCB- -RCB- / 25.4 round -RCB- -RCB- -RCB- +2 -RCB- -RCB- -RCB- -RCB- -RCB- -RCB- -RCB- -RCB- -RCB- -RCB- -RCB- / 2.54 round -RCB- -RCB- -RCB- +1 -RCB- -RCB- -RCB- -RCB- -RCB- -RCB- / 25.4 round -RCB- -RCB- -RCB- +2 -RCB- -RCB- -RCB- -RCB- -RCB- -RCB- -RCB- -RCB- -RCB- -RCB- -RCB- / 2.54 round -RCB- -RCB- -RCB- +1 -RCB- -RCB- -RCB- -RCB- -RCB- -RCB- / 25.4 round -RCB- -RCB- -RCB- +2 -RCB- -RCB- -RCB- -RCB- -RCB- -RCB- -RCB- -RCB- -RCB- -RCB- -RCB- / 2.54 round -RCB- -RCB- -RCB- +1 -RCB- -RCB- -RCB- -RCB- -RCB- -RCB- / 25.4 round -RCB- -RCB- -RCB- +2 -RCB- -RCB- -RCB- -RCB- -RCB- -RCB- -RCB- -RCB- -RCB- -RCB- -RCB- / 2.54 round -RCB- -RCB- -RCB- +1 -RCB- -RCB- -RCB- -RCB- -RCB- -RCB- / 25.4 round -RCB- -RCB- -RCB- +2 -RCB- -RCB- -RCB- -RCB- -RCB- -RCB- -RCB- -RCB- -RCB- -RCB- -RCB- / 2.54 round -RCB- -RCB- -RCB- +1 -RCB- -RCB- -RCB- -RCB- -RCB- -RCB- / 25.4 round -RCB- -RCB- -RCB- +2 -RCB- -RCB- -RCB- -RCB- -RCB- -RCB- + -RCB- -RCB- + -RCB- -RCB- + -RCB- -RCB- + -RCB- -RCB- + -RCB- -RCB- + -RCB- -RCB- + -RCB- -RCB- + -RCB- -RCB- + -RCB- -RCB- + -RCB- -RCB- + -RCB- -RCB- -RCB- -RCB- -RCB- -RCB- + -RCB- -RCB- + -RCB- -RCB- + -RCB- -RCB- + -RCB- -RCB- + -RCB- -RCB- + -RCB- -RCB- + -RCB- -RCB- + -RCB- -RCB- + -RCB- -RCB- + -RCB- -RCB- + -RCB- -RCB- -RRB- / 2.54 round -RCB- -RCB- -RCB- +1 -RCB- -RCB- -RCB- -RCB- -RCB- -RCB- + -RCB- -RCB- + -RCB- -RCB- + -RCB- -RCB- + -RCB- -RCB- + -RCB- -RCB- + -RCB- -RCB- + -RCB- -RCB- + -RCB- -RCB- + -RCB- -RCB- + -RCB- -RCB- + -RCB- -RCB- -RRB- / 25.4 round -RCB- -RCB- -RCB- +2 -RCB- -RCB- -RCB- -RCB- -RCB- -RCB- -RCB- -RCB- -RCB- -RCB- -RCB- -RCB- -RCB- -RCB- -RCB- -RCB- &lt; !   \n",
      "6993520                                                                      -- RAINFALL IMPERIAL -- &gt; -RCB- / 2.54 round -RCB- -RCB- -RCB- +1 -RCB- -RCB- -RCB- -RCB- -RCB- -RCB- / 25.4 round -RCB- -RCB- -RCB- +2 -RCB- -RCB- -RCB- -RCB- -RCB- -RCB- -RCB- -RCB- -RCB- -RCB- -RCB- / 2.54 round -RCB- -RCB- -RCB- +1 -RCB- -RCB- -RCB- -RCB- -RCB- -RCB- / 25.4 round -RCB- -RCB- -RCB- +2 -RCB- -RCB- -RCB- -RCB- -RCB- -RCB- -RCB- -RCB- -RCB- -RCB- -RCB- / 2.54 round -RCB- -RCB- -RCB- +1 -RCB- -RCB- -RCB- -RCB- -RCB- -RCB- / 25.4 round -RCB- -RCB- -RCB- +2 -RCB- -RCB- -RCB- -RCB- -RCB- -RCB- -RCB- -RCB- -RCB- -RCB- -RCB- / 2.54 round -RCB- -RCB- -RCB- +1 -RCB- -RCB- -RCB- -RCB- -RCB- -RCB- / 25.4 round -RCB- -RCB- -RCB- +2 -RCB- -RCB- -RCB- -RCB- -RCB- -RCB- -RCB- -RCB- -RCB- -RCB- -RCB- / 2.54 round -RCB- -RCB- -RCB- +1 -RCB- -RCB- -RCB- -RCB- -RCB- -RCB- / 25.4 round -RCB- -RCB- -RCB- +2 -RCB- -RCB- -RCB- -RCB- -RCB- -RCB- -RCB- -RCB- -RCB- -RCB- -RCB- / 2.54 round -RCB- -RCB- -RCB- +1 -RCB- -RCB- -RCB- -RCB- -RCB- -RCB- / 25.4 round -RCB- -RCB- -RCB- +2 -RCB- -RCB- -RCB- -RCB- -RCB- -RCB- -RCB- -RCB- -RCB- -RCB- -RCB- / 2.54 round -RCB- -RCB- -RCB- +1 -RCB- -RCB- -RCB- -RCB- -RCB- -RCB- / 25.4 round -RCB- -RCB- -RCB- +2 -RCB- -RCB- -RCB- -RCB- -RCB- -RCB- -RCB- -RCB- -RCB- -RCB- -RCB- / 2.54 round -RCB- -RCB- -RCB- +1 -RCB- -RCB- -RCB- -RCB- -RCB- -RCB- / 25.4 round -RCB- -RCB- -RCB- +2 -RCB- -RCB- -RCB- -RCB- -RCB- -RCB- -RCB- -RCB- -RCB- -RCB- -RCB- / 2.54 round -RCB- -RCB- -RCB- +1 -RCB- -RCB- -RCB- -RCB- -RCB- -RCB- / 25.4 round -RCB- -RCB- -RCB- +2 -RCB- -RCB- -RCB- -RCB- -RCB- -RCB- -RCB- -RCB- -RCB- -RCB- -RCB- / 2.54 round -RCB- -RCB- -RCB- +1 -RCB- -RCB- -RCB- -RCB- -RCB- -RCB- / 25.4 round -RCB- -RCB- -RCB- +2 -RCB- -RCB- -RCB- -RCB- -RCB- -RCB- -RCB- -RCB- -RCB- -RCB- -RCB- / 2.54 round -RCB- -RCB- -RCB- +1 -RCB- -RCB- -RCB- -RCB- -RCB- -RCB- / 25.4 round -RCB- -RCB- -RCB- +2 -RCB- -RCB- -RCB- -RCB- -RCB- -RCB- -RCB- -RCB- -RCB- -RCB- -RCB- / 2.54 round -RCB- -RCB- -RCB- +1 -RCB- -RCB- -RCB- -RCB- -RCB- -RCB- / 25.4 round -RCB- -RCB- -RCB- +2 -RCB- -RCB- -RCB- -RCB- -RCB- -RCB- -RCB- -RCB- -RCB- -RCB- -RCB- / 2.54 round -RCB- -RCB- -RCB- +1 -RCB- -RCB- -RCB- -RCB- -RCB- -RCB- / 25.4 round -RCB- -RCB- -RCB- +2 -RCB- -RCB- -RCB- -RCB- -RCB- -RCB- + -RCB- -RCB- + -RCB- -RCB- + -RCB- -RCB- + -RCB- -RCB- + -RCB- -RCB- + -RCB- -RCB- + -RCB- -RCB- + -RCB- -RCB- + -RCB- -RCB- + -RCB- -RCB- + -RCB- -RCB- -RCB- -RCB- -RCB- -RCB- + -RCB- -RCB- + -RCB- -RCB- + -RCB- -RCB- + -RCB- -RCB- + -RCB- -RCB- + -RCB- -RCB- + -RCB- -RCB- + -RCB- -RCB- + -RCB- -RCB- + -RCB- -RCB- + -RCB- -RCB- -RRB- / 2.54 round -RCB- -RCB- -RCB- +1 -RCB- -RCB- -RCB- -RCB- -RCB- -RCB- + -RCB- -RCB- + -RCB- -RCB- + -RCB- -RCB- + -RCB- -RCB- + -RCB- -RCB- + -RCB- -RCB- + -RCB- -RCB- + -RCB- -RCB- + -RCB- -RCB- + -RCB- -RCB- + -RCB- -RCB- -RRB- / 25.4 round -RCB- -RCB- -RCB- +2 -RCB- -RCB- -RCB- -RCB- -RCB- -RCB- -RCB- -RCB- -RCB- -RCB- -RCB- -RCB- -RCB- -RCB- -RCB- -RCB- &lt; !   \n",
      "\n",
      "          text_length  \n",
      "12946091         2986  \n",
      "11089264         2972  \n",
      "1530812          2951  \n",
      "2985737          2951  \n",
      "11513705         2930  \n",
      "7508582          2930  \n",
      "11379434         2930  \n",
      "13040319         2930  \n",
      "3918107          2930  \n",
      "9504300          2930  \n",
      "5720975          2921  \n",
      "3060928          2921  \n",
      "1353541          2919  \n",
      "10629495         2919  \n",
      "4280737          2919  \n",
      "2540813          2919  \n",
      "7227385          2919  \n",
      "7236694          2919  \n",
      "11492483         2919  \n",
      "6993520          2919  \n"
     ]
    }
   ],
   "source": [
    "pd.set_option('display.max_colwidth', None)\n",
    "print(sorted_df.head(20))"
   ]
  },
  {
   "cell_type": "code",
   "execution_count": null,
   "metadata": {},
   "outputs": [
    {
     "name": "stdout",
     "output_type": "stream",
     "text": [
      "28957 Then the super cool part- children will use magnets to explore how gravity can easily be overcome by other forces- almost like defying gravity!\n"
     ]
    }
   ],
   "source": [
    "# Assuming your DataFrame is named df and the column is named 'column_name'\n",
    "# text_to_check = \"The force of gravity overcomes the\"\n",
    "text_to_check = \"will use magnets to explore how gravity\"\n",
    "# exists = text_to_check in corpus_df.values.squeeze(1)\n",
    "corpus_data = corpus_df.values.squeeze(1)\n",
    "results = [entry for idx, entry in enumerate(corpus_data) if text_to_check in entry]\n",
    "for idx, entry in enumerate(corpus_df.values.squeeze(1)):\n",
    "    if text_to_check in entry:\n",
    "        print(idx, entry)"
   ]
  },
  {
   "cell_type": "code",
   "execution_count": null,
   "metadata": {},
   "outputs": [
    {
     "name": "stdout",
     "output_type": "stream",
     "text": [
      "Thus, when we see such strata inclined instead of horizontal, evidence of an episode of deformation.\n"
     ]
    }
   ],
   "source": [
    "print(corpus_data[1000])"
   ]
  },
  {
   "cell_type": "code",
   "execution_count": null,
   "metadata": {},
   "outputs": [
    {
     "name": "stdout",
     "output_type": "stream",
     "text": [
      "['Large international companies are involved in bauxite, iron ore, diamond, and gold mining operations.\\n'\n",
      " 'Paleoceanography, 8(2): 193-208.\\n'\n",
      " 'Of course, for many in the media, “hydrogen sulphide delivery helps prevent disease damage in cells in certain disease models” will always be trumped by “farts cure cancer” when it comes to headlines.\\n'\n",
      " 'The same problems apply with wolf-domestic dog hybrids.\\n'\n",
      " 'taking stock of delightful days\\n'\n",
      " 'The an- tlu-opologist and the ethnologist find in trop- ical America some of the most complicated and interesting problems of research.\\n'\n",
      " 'ORDER ODONATA (Damselflies and Dragonflies) Diagnosis: large, to over three inches long; four wings, transparent and membranous, held vertically (damselflies) or laterally (dragonflies) at rest; chew- ing mouth parts, tooth-like; nymphs aquatic, feeding on mosquito larvae to small fish; adults terrestrial, feeding on other insects (Figure 14.27).\\n'\n",
      " 'until they institute such safeguards and assurances of chaste maidenhood as characterize Hebrew social life?\\n'\n",
      " 'Sex brought the variations that could allow organisms to survive change” (2000, p. 163).\\n'\n",
      " 'Homo erectus had a long tenure; the earliest Homo erectus fossils are dated to roughly 1.8 million years ago, while the youngest fossils assigned to this species date to roughly 300 thousand years ago (ka).\\n']\n"
     ]
    }
   ],
   "source": [
    "print(corpus_df.values.squeeze(1)[:10])"
   ]
  },
  {
   "cell_type": "markdown",
   "metadata": {},
   "source": [
    "## Conversational entailment"
   ]
  },
  {
   "cell_type": "code",
   "execution_count": null,
   "metadata": {},
   "outputs": [
    {
     "name": "stderr",
     "output_type": "stream",
     "text": [
      "Downloading readme: 100%|██████████| 2.93k/2.93k [00:00<?, ?B/s]\n",
      "Downloading data: 100%|██████████| 197k/197k [00:00<00:00, 1.84MB/s]\n",
      "Downloading data: 100%|██████████| 387k/387k [00:00<00:00, 4.28MB/s]]\n",
      "Downloading data files: 100%|██████████| 2/2 [00:00<00:00,  9.48it/s]\n",
      "Extracting data files: 100%|██████████| 2/2 [00:00<00:00, 166.08it/s]\n",
      "Generating validation split: 291 examples [00:00, 19497.17 examples/s]\n",
      "Generating test split: 584 examples [00:00, 77039.58 examples/s]\n"
     ]
    }
   ],
   "source": [
    "dataset = load_dataset(\"sled-umich/Conversation-Entailment\")"
   ]
  },
  {
   "cell_type": "code",
   "execution_count": null,
   "metadata": {},
   "outputs": [
    {
     "name": "stdout",
     "output_type": "stream",
     "text": [
      "DatasetDict({\n",
      "    validation: Dataset({\n",
      "        features: ['dialog_speaker_list', 'h', 'dialog_num_list', 'dialog_source', 'dialog_text_list', 'entailment', 'id', 'type'],\n",
      "        num_rows: 291\n",
      "    })\n",
      "    test: Dataset({\n",
      "        features: ['dialog_speaker_list', 'h', 'dialog_num_list', 'dialog_source', 'dialog_text_list', 'entailment', 'id', 'type'],\n",
      "        num_rows: 584\n",
      "    })\n",
      "})\n"
     ]
    }
   ],
   "source": [
    "print(dataset)"
   ]
  },
  {
   "cell_type": "code",
   "execution_count": null,
   "metadata": {},
   "outputs": [],
   "source": [
    "test_ds = dataset[\"test\"]\n",
    "valid_ds = dataset[\"validation\"]"
   ]
  },
  {
   "cell_type": "code",
   "execution_count": null,
   "metadata": {},
   "outputs": [],
   "source": [
    "def transform_to_dataframe(dataset, custom_instruction):\n",
    "    \"\"\"\n",
    "    Transforms the dataset into a DataFrame with formatted conversation and entailment info.\n",
    "    \n",
    "    :param dataset: List of dictionaries containing the dataset information.\n",
    "    :param custom_instruction: String containing a customized instruction for the model.\n",
    "    :return: A pandas DataFrame with the transformed data.\n",
    "    \"\"\"\n",
    "    data = []\n",
    "\n",
    "    for entry in dataset:\n",
    "        # Formatting the conversation\n",
    "        conversation = 'Conversation:\\n' + '\\n'.join(\n",
    "            f\"{speaker}: '{text}'\" for speaker, text in zip(entry['dialog_speaker_list'], entry['dialog_text_list'])\n",
    "        )\n",
    "        conversation += f\"\\nHypothesis: '{entry['h']}'\\n{custom_instruction}\"\n",
    "\n",
    "        # Formatting the entailment and type\n",
    "        entailment_info = f\"Entailment: {entry['entailment']}. Type: {entry['type']}.\"\n",
    "\n",
    "        data.append([conversation, entailment_info])\n",
    "\n",
    "    return pd.DataFrame(data, columns=['Input', 'Label'])"
   ]
  },
  {
   "cell_type": "code",
   "execution_count": null,
   "metadata": {},
   "outputs": [],
   "source": [
    "custom_instruction = \"Please analyze the conversation and check whether the hypothesis is true and identify the type of entailment.\"\n",
    "test_df = transform_to_dataframe(test_ds,custom_instruction)\n",
    "valid_df = transform_to_dataframe(valid_ds,custom_instruction)"
   ]
  },
  {
   "cell_type": "code",
   "execution_count": null,
   "metadata": {},
   "outputs": [
    {
     "name": "stdout",
     "output_type": "stream",
     "text": [
      "                                                                                                                                                                                                                                                                                                                                                                                                                         Input  \\\n",
      "0                                                                                                                                                                                                                                Conversation:\\nB: 'Hi, Archie.  I'm Sharon.'\\nHypothesis: 'SpeakerB is Archie'\\nPlease analyze the conversation and check whether the hypothesis is true and identify the type of entailment.   \n",
      "1  Conversation:\\nB: 'Yeah.  I've seen that, that's, uh, that was a really good movie.  Probably one of the best things about it was the scenery and, uh, I thought the story was pretty good, too.  I, I think Kevin Costner did a really good job with it.'\\nHypothesis: 'SpeakerB likes DANCING WITH WOLVES'\\nPlease analyze the conversation and check whether the hypothesis is true and identify the type of entailment.   \n",
      "\n",
      "                             Label  \n",
      "0   Entailment: False. Type: fact.  \n",
      "1  Entailment: True. Type: belief.  \n"
     ]
    }
   ],
   "source": [
    "pd.set_option('display.max_colwidth', None)\n",
    "print(test_df.head(2))"
   ]
  },
  {
   "cell_type": "code",
   "execution_count": null,
   "metadata": {},
   "outputs": [],
   "source": [
    "valid_df.to_csv('../data/valid_df-CE.csv', index=False)\n",
    "test_df.to_csv('../data/test_df-CE.csv', index=False)"
   ]
  },
  {
   "cell_type": "markdown",
   "metadata": {},
   "source": [
    "## TRIP"
   ]
  },
  {
   "cell_type": "code",
   "execution_count": 8,
   "metadata": {},
   "outputs": [],
   "source": [
    "dataset = load_dataset(\"sled-umich/TRIP\")"
   ]
  },
  {
   "cell_type": "code",
   "execution_count": 9,
   "metadata": {},
   "outputs": [
    {
     "name": "stdout",
     "output_type": "stream",
     "text": [
      "DatasetDict({\n",
      "    ClozeDev: Dataset({\n",
      "        features: ['example_id', 'length', 'label', 'breakpoint', 'confl_sents', 'confl_pairs', 'stories'],\n",
      "        num_rows: 322\n",
      "    })\n",
      "    ClozeTest: Dataset({\n",
      "        features: ['example_id', 'length', 'label', 'breakpoint', 'confl_sents', 'confl_pairs', 'stories'],\n",
      "        num_rows: 351\n",
      "    })\n",
      "    ClozeTrain: Dataset({\n",
      "        features: ['example_id', 'length', 'label', 'breakpoint', 'confl_sents', 'confl_pairs', 'stories'],\n",
      "        num_rows: 799\n",
      "    })\n",
      "    OrderDev: Dataset({\n",
      "        features: ['example_id', 'length', 'label', 'breakpoint', 'confl_sents', 'confl_pairs', 'stories'],\n",
      "        num_rows: 393\n",
      "    })\n",
      "    OrderTest: Dataset({\n",
      "        features: ['example_id', 'length', 'label', 'breakpoint', 'confl_sents', 'confl_pairs', 'stories'],\n",
      "        num_rows: 408\n",
      "    })\n",
      "    OrderTrain: Dataset({\n",
      "        features: ['example_id', 'length', 'label', 'breakpoint', 'confl_sents', 'confl_pairs', 'stories'],\n",
      "        num_rows: 2330\n",
      "    })\n",
      "})\n"
     ]
    }
   ],
   "source": [
    "print(dataset)"
   ]
  },
  {
   "cell_type": "code",
   "execution_count": 22,
   "metadata": {},
   "outputs": [],
   "source": [
    "train_order_ds = dataset[\"OrderTest\"]\n",
    "train_cloze_ds = dataset[\"ClozeTest\"]"
   ]
  },
  {
   "cell_type": "code",
   "execution_count": 23,
   "metadata": {},
   "outputs": [],
   "source": [
    "# print(train_ds[1])"
   ]
  },
  {
   "cell_type": "code",
   "execution_count": 24,
   "metadata": {},
   "outputs": [],
   "source": [
    "def transform_trip_to_dataframe_order(dataset, custom_instruction):\n",
    "    \"\"\"\n",
    "    Transforms the TRIP dataset into a DataFrame with numbered stories and their detailed attributes.\n",
    "    \n",
    "    :param dataset: List of dictionaries, each containing multiple stories.\n",
    "    :return: A pandas DataFrame with the transformed data.\n",
    "    \"\"\"\n",
    "    data = []\n",
    "\n",
    "    for entry in dataset:\n",
    "        for story in entry['stories']:\n",
    "            # Numbering and concatenating the sentences to form the story\n",
    "            story_text = f\"Actor: {story['actor']}, Location: {story['location']}, Story: \"\n",
    "            story_text += ' '.join(f\"[{i}] {sentence}\" for i, sentence in enumerate(story['sentences']))\n",
    "            story_text += \"\\n\" + custom_instruction\n",
    "\n",
    "            # Compiling story details\n",
    "            details = f\"Plausible: {'True' if story['plausible'] else 'False'}, Breakpoint: {story['breakpoint']}, Conflict Sentences: {story['confl_sents']}, Type: {story.get('type', 'N/A')}\"\n",
    "\n",
    "            data.append([story_text, details])\n",
    "\n",
    "    return pd.DataFrame(data, columns=['Story', 'Details'])"
   ]
  },
  {
   "cell_type": "code",
   "execution_count": 25,
   "metadata": {},
   "outputs": [],
   "source": [
    "def transform_cloze_to_dataframe(dataset, cloze_ci):\n",
    "    \"\"\"\n",
    "    Transforms the ClozeTrain part of the TRIP dataset into a DataFrame.\n",
    "    \n",
    "    :param dataset: List of dictionaries, each containing multiple cloze stories.\n",
    "    :return: A pandas DataFrame with the transformed data.\n",
    "    \"\"\"\n",
    "    data = []\n",
    "\n",
    "    for entry in dataset:\n",
    "        for story in entry['stories']:\n",
    "            # Numbering and concatenating the sentences to form the story\n",
    "            story_text = f\"Actor: {story['actor']}, Location: {story['location']}, Story: \"\n",
    "            story_text += ' '.join(f\"[{i}] {sentence}\" for i, sentence in enumerate(story['sentences']))\n",
    "            story_text += \"\\n\" + cloze_ci\n",
    "\n",
    "            # Compiling story details\n",
    "            details = (f\"Plausible: {'True' if story['plausible'] else 'False'}, \"\n",
    "                       f\"Breakpoint: {story['breakpoint']}, \"\n",
    "                       f\"Conflict Sentences: {story['confl_sents']}, \"\n",
    "                       f\"Conflict Pairs: {story['confl_pairs']}, \"\n",
    "                       f\"Type: {story.get('type', 'N/A')}\")\n",
    "\n",
    "            data.append([story_text, details])\n",
    "\n",
    "    return pd.DataFrame(data, columns=['Story', 'Details'])"
   ]
  },
  {
   "cell_type": "code",
   "execution_count": 26,
   "metadata": {},
   "outputs": [
    {
     "name": "stdout",
     "output_type": "stream",
     "text": [
      "(816, 2)\n",
      "(702, 2)\n",
      "(1518, 2)\n"
     ]
    }
   ],
   "source": [
    "pd.set_option('display.max_colwidth', None)\n",
    "ci = \"Instruction: Please review each story, paying special attention to the numbered sentences. Identify the key sentence or sentences that disrupt the logical consistency or narrative coherence. Evaluate whether the overall sequence of events aligns with real-world physics, and determine the plausibility of the story based on these observations. Specifically highlight any sentences that contribute to making the story implausible.\"\n",
    "order_df = transform_trip_to_dataframe_order(train_order_ds, ci)\n",
    "print(order_df.shape)\n",
    "\n",
    "\n",
    "cloze_ci = \"Instruction: Examine each story, focusing on numbered and conflicting sentences. Analyze their interplay and impact on narrative coherence and plausibility. Determine the story's alignment with intuitive physics and logical consistency, highlighting key elements that affect its plausibility.\"\n",
    "cloze_df = transform_cloze_to_dataframe(train_cloze_ds, cloze_ci)\n",
    "print(cloze_df.shape)\n",
    "\n",
    "train_df = combined_df = pd.concat([order_df, cloze_df], ignore_index=True)\n",
    "print(train_df.shape)"
   ]
  },
  {
   "cell_type": "code",
   "execution_count": 27,
   "metadata": {},
   "outputs": [],
   "source": [
    "train_df.to_csv('../data/test_df-TRIP.csv', index=False)"
   ]
  },
  {
   "cell_type": "markdown",
   "metadata": {},
   "source": [
    "## CommonSenseQA"
   ]
  },
  {
   "cell_type": "code",
   "execution_count": 28,
   "metadata": {},
   "outputs": [
    {
     "ename": "JSONDecodeError",
     "evalue": "Expecting value: line 1 column 1 (char 0)",
     "output_type": "error",
     "traceback": [
      "\u001b[1;31m---------------------------------------------------------------------------\u001b[0m",
      "\u001b[1;31mJSONDecodeError\u001b[0m                           Traceback (most recent call last)",
      "File \u001b[1;32mc:\\Users\\stbyu\\anaconda3\\envs\\eecs595python10\\lib\\site-packages\\requests\\models.py:960\u001b[0m, in \u001b[0;36mResponse.json\u001b[1;34m(self, **kwargs)\u001b[0m\n\u001b[0;32m    959\u001b[0m \u001b[39mtry\u001b[39;00m:\n\u001b[1;32m--> 960\u001b[0m     \u001b[39mreturn\u001b[39;00m complexjson\u001b[39m.\u001b[39mloads(\u001b[39mself\u001b[39m\u001b[39m.\u001b[39mcontent\u001b[39m.\u001b[39mdecode(encoding), \u001b[39m*\u001b[39m\u001b[39m*\u001b[39mkwargs)\n\u001b[0;32m    961\u001b[0m \u001b[39mexcept\u001b[39;00m \u001b[39mUnicodeDecodeError\u001b[39;00m:\n\u001b[0;32m    962\u001b[0m     \u001b[39m# Wrong UTF codec detected; usually because it's not UTF-8\u001b[39;00m\n\u001b[0;32m    963\u001b[0m     \u001b[39m# but some other 8-bit codec.  This is an RFC violation,\u001b[39;00m\n\u001b[0;32m    964\u001b[0m     \u001b[39m# and the server didn't bother to tell us what codec *was*\u001b[39;00m\n\u001b[0;32m    965\u001b[0m     \u001b[39m# used.\u001b[39;00m\n",
      "File \u001b[1;32mc:\\Users\\stbyu\\anaconda3\\envs\\eecs595python10\\lib\\json\\__init__.py:346\u001b[0m, in \u001b[0;36mloads\u001b[1;34m(s, cls, object_hook, parse_float, parse_int, parse_constant, object_pairs_hook, **kw)\u001b[0m\n\u001b[0;32m    343\u001b[0m \u001b[39mif\u001b[39;00m (\u001b[39mcls\u001b[39m \u001b[39mis\u001b[39;00m \u001b[39mNone\u001b[39;00m \u001b[39mand\u001b[39;00m object_hook \u001b[39mis\u001b[39;00m \u001b[39mNone\u001b[39;00m \u001b[39mand\u001b[39;00m\n\u001b[0;32m    344\u001b[0m         parse_int \u001b[39mis\u001b[39;00m \u001b[39mNone\u001b[39;00m \u001b[39mand\u001b[39;00m parse_float \u001b[39mis\u001b[39;00m \u001b[39mNone\u001b[39;00m \u001b[39mand\u001b[39;00m\n\u001b[0;32m    345\u001b[0m         parse_constant \u001b[39mis\u001b[39;00m \u001b[39mNone\u001b[39;00m \u001b[39mand\u001b[39;00m object_pairs_hook \u001b[39mis\u001b[39;00m \u001b[39mNone\u001b[39;00m \u001b[39mand\u001b[39;00m \u001b[39mnot\u001b[39;00m kw):\n\u001b[1;32m--> 346\u001b[0m     \u001b[39mreturn\u001b[39;00m _default_decoder\u001b[39m.\u001b[39;49mdecode(s)\n\u001b[0;32m    347\u001b[0m \u001b[39mif\u001b[39;00m \u001b[39mcls\u001b[39m \u001b[39mis\u001b[39;00m \u001b[39mNone\u001b[39;00m:\n",
      "File \u001b[1;32mc:\\Users\\stbyu\\anaconda3\\envs\\eecs595python10\\lib\\json\\decoder.py:337\u001b[0m, in \u001b[0;36mJSONDecoder.decode\u001b[1;34m(self, s, _w)\u001b[0m\n\u001b[0;32m    333\u001b[0m \u001b[39m\u001b[39m\u001b[39m\"\"\"Return the Python representation of ``s`` (a ``str`` instance\u001b[39;00m\n\u001b[0;32m    334\u001b[0m \u001b[39mcontaining a JSON document).\u001b[39;00m\n\u001b[0;32m    335\u001b[0m \n\u001b[0;32m    336\u001b[0m \u001b[39m\"\"\"\u001b[39;00m\n\u001b[1;32m--> 337\u001b[0m obj, end \u001b[39m=\u001b[39m \u001b[39mself\u001b[39;49m\u001b[39m.\u001b[39;49mraw_decode(s, idx\u001b[39m=\u001b[39;49m_w(s, \u001b[39m0\u001b[39;49m)\u001b[39m.\u001b[39;49mend())\n\u001b[0;32m    338\u001b[0m end \u001b[39m=\u001b[39m _w(s, end)\u001b[39m.\u001b[39mend()\n",
      "File \u001b[1;32mc:\\Users\\stbyu\\anaconda3\\envs\\eecs595python10\\lib\\json\\decoder.py:355\u001b[0m, in \u001b[0;36mJSONDecoder.raw_decode\u001b[1;34m(self, s, idx)\u001b[0m\n\u001b[0;32m    354\u001b[0m \u001b[39mexcept\u001b[39;00m \u001b[39mStopIteration\u001b[39;00m \u001b[39mas\u001b[39;00m err:\n\u001b[1;32m--> 355\u001b[0m     \u001b[39mraise\u001b[39;00m JSONDecodeError(\u001b[39m\"\u001b[39m\u001b[39mExpecting value\u001b[39m\u001b[39m\"\u001b[39m, s, err\u001b[39m.\u001b[39mvalue) \u001b[39mfrom\u001b[39;00m \u001b[39mNone\u001b[39;00m\n\u001b[0;32m    356\u001b[0m \u001b[39mreturn\u001b[39;00m obj, end\n",
      "\u001b[1;31mJSONDecodeError\u001b[0m: Expecting value: line 1 column 1 (char 0)",
      "\nDuring handling of the above exception, another exception occurred:\n",
      "\u001b[1;31mJSONDecodeError\u001b[0m                           Traceback (most recent call last)",
      "\u001b[1;32mc:\\Users\\stbyu\\Desktop\\University of Michigan\\CurrQuarter\\EECS 595\\Final Project\\code\\Preprocess Dataset.ipynb Cell 41\u001b[0m line \u001b[0;36m1\n\u001b[0;32m     <a href='vscode-notebook-cell:/c%3A/Users/stbyu/Desktop/University%20of%20Michigan/CurrQuarter/EECS%20595/Final%20Project/code/Preprocess%20Dataset.ipynb#X61sZmlsZQ%3D%3D?line=11'>12</a>\u001b[0m url \u001b[39m=\u001b[39m \u001b[39m\"\u001b[39m\u001b[39mhttps://s3.amazonaws.com/commensenseqa/train_rand_split.json\u001b[39m\u001b[39m\"\u001b[39m\n\u001b[0;32m     <a href='vscode-notebook-cell:/c%3A/Users/stbyu/Desktop/University%20of%20Michigan/CurrQuarter/EECS%20595/Final%20Project/code/Preprocess%20Dataset.ipynb#X61sZmlsZQ%3D%3D?line=13'>14</a>\u001b[0m \u001b[39m# Downloading and loading the dataset\u001b[39;00m\n\u001b[1;32m---> <a href='vscode-notebook-cell:/c%3A/Users/stbyu/Desktop/University%20of%20Michigan/CurrQuarter/EECS%20595/Final%20Project/code/Preprocess%20Dataset.ipynb#X61sZmlsZQ%3D%3D?line=14'>15</a>\u001b[0m commonsenseqa_df \u001b[39m=\u001b[39m download_commonsenseqa(url)\n\u001b[0;32m     <a href='vscode-notebook-cell:/c%3A/Users/stbyu/Desktop/University%20of%20Michigan/CurrQuarter/EECS%20595/Final%20Project/code/Preprocess%20Dataset.ipynb#X61sZmlsZQ%3D%3D?line=16'>17</a>\u001b[0m \u001b[39m# Displaying the first few rows of the DataFrame\u001b[39;00m\n\u001b[0;32m     <a href='vscode-notebook-cell:/c%3A/Users/stbyu/Desktop/University%20of%20Michigan/CurrQuarter/EECS%20595/Final%20Project/code/Preprocess%20Dataset.ipynb#X61sZmlsZQ%3D%3D?line=17'>18</a>\u001b[0m \u001b[39mprint\u001b[39m(commonsenseqa_df\u001b[39m.\u001b[39mhead())\n",
      "\u001b[1;32mc:\\Users\\stbyu\\Desktop\\University of Michigan\\CurrQuarter\\EECS 595\\Final Project\\code\\Preprocess Dataset.ipynb Cell 41\u001b[0m line \u001b[0;36m8\n\u001b[0;32m      <a href='vscode-notebook-cell:/c%3A/Users/stbyu/Desktop/University%20of%20Michigan/CurrQuarter/EECS%20595/Final%20Project/code/Preprocess%20Dataset.ipynb#X61sZmlsZQ%3D%3D?line=5'>6</a>\u001b[0m \u001b[39mdef\u001b[39;00m \u001b[39mdownload_commonsenseqa\u001b[39m(url):\n\u001b[0;32m      <a href='vscode-notebook-cell:/c%3A/Users/stbyu/Desktop/University%20of%20Michigan/CurrQuarter/EECS%20595/Final%20Project/code/Preprocess%20Dataset.ipynb#X61sZmlsZQ%3D%3D?line=6'>7</a>\u001b[0m     response \u001b[39m=\u001b[39m requests\u001b[39m.\u001b[39mget(url)\n\u001b[1;32m----> <a href='vscode-notebook-cell:/c%3A/Users/stbyu/Desktop/University%20of%20Michigan/CurrQuarter/EECS%20595/Final%20Project/code/Preprocess%20Dataset.ipynb#X61sZmlsZQ%3D%3D?line=7'>8</a>\u001b[0m     data \u001b[39m=\u001b[39m response\u001b[39m.\u001b[39;49mjson()\n\u001b[0;32m      <a href='vscode-notebook-cell:/c%3A/Users/stbyu/Desktop/University%20of%20Michigan/CurrQuarter/EECS%20595/Final%20Project/code/Preprocess%20Dataset.ipynb#X61sZmlsZQ%3D%3D?line=8'>9</a>\u001b[0m     \u001b[39mreturn\u001b[39;00m pd\u001b[39m.\u001b[39mjson_normalize(data, record_path\u001b[39m=\u001b[39m[\u001b[39m'\u001b[39m\u001b[39mdata\u001b[39m\u001b[39m'\u001b[39m])\n",
      "File \u001b[1;32mc:\\Users\\stbyu\\anaconda3\\envs\\eecs595python10\\lib\\site-packages\\requests\\models.py:968\u001b[0m, in \u001b[0;36mResponse.json\u001b[1;34m(self, **kwargs)\u001b[0m\n\u001b[0;32m    966\u001b[0m             \u001b[39mpass\u001b[39;00m\n\u001b[0;32m    967\u001b[0m         \u001b[39mexcept\u001b[39;00m JSONDecodeError \u001b[39mas\u001b[39;00m e:\n\u001b[1;32m--> 968\u001b[0m             \u001b[39mraise\u001b[39;00m RequestsJSONDecodeError(e\u001b[39m.\u001b[39mmsg, e\u001b[39m.\u001b[39mdoc, e\u001b[39m.\u001b[39mpos)\n\u001b[0;32m    970\u001b[0m \u001b[39mtry\u001b[39;00m:\n\u001b[0;32m    971\u001b[0m     \u001b[39mreturn\u001b[39;00m complexjson\u001b[39m.\u001b[39mloads(\u001b[39mself\u001b[39m\u001b[39m.\u001b[39mtext, \u001b[39m*\u001b[39m\u001b[39m*\u001b[39mkwargs)\n",
      "\u001b[1;31mJSONDecodeError\u001b[0m: Expecting value: line 1 column 1 (char 0)"
     ]
    }
   ],
   "source": [
    "import pandas as pd\n",
    "import requests\n",
    "import json\n",
    "\n",
    "# Function to download and load the dataset\n",
    "def download_commonsenseqa(url):\n",
    "    response = requests.get(url)\n",
    "    data = response.json()\n",
    "    return pd.json_normalize(data, record_path=['data'])\n",
    "\n",
    "# URL for the CommonsenseQA dataset\n",
    "url = \"https://s3.amazonaws.com/commensenseqa/train_rand_split.json\"\n",
    "\n",
    "# Downloading and loading the dataset\n",
    "commonsenseqa_df = download_commonsenseqa(url)\n",
    "\n",
    "# Displaying the first few rows of the DataFrame\n",
    "print(commonsenseqa_df.head())"
   ]
  }
 ],
 "metadata": {
  "kernelspec": {
   "display_name": "eecs595python10",
   "language": "python",
   "name": "python3"
  },
  "language_info": {
   "codemirror_mode": {
    "name": "ipython",
    "version": 3
   },
   "file_extension": ".py",
   "mimetype": "text/x-python",
   "name": "python",
   "nbconvert_exporter": "python",
   "pygments_lexer": "ipython3",
   "version": "3.10.13"
  }
 },
 "nbformat": 4,
 "nbformat_minor": 2
}
